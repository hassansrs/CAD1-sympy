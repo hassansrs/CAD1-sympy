{
 "cells": [
  {
   "cell_type": "code",
   "execution_count": 8,
   "metadata": {
    "collapsed": true
   },
   "outputs": [],
   "source": [
    "from sympy.interactive.printing import init_printing\n",
    "from sympy import *\n",
    "import numpy as np \n",
    "init_printing(use_unicode=True)"
   ]
  },
  {
   "cell_type": "markdown",
   "metadata": {},
   "source": [
    "# Fourier Series\n",
    "## Introduction \n",
    "For a periodic function $f$ of period $P$, the Fourier series expansion enables to write the function with the following form:\n",
    "$$\n",
    "f(t) = \\frac{a_{0}}{2} + \\sum^{\\infty}_{n=1} a_{n} \\cos (2n\\pi \\frac{t}{P}) + \\sum^{\\infty}_{n=1} b_{n} \\sin (2n\\pi \\frac{t}{P})\n",
    "$$\n",
    "\n",
    "where the constant coefficients $a_n$ and $b_n$ are defined according to: \n",
    "$$\n",
    "a_n = \\frac{2}{P}\\int^{\\frac{P}{2}}_{-\\frac{P}{2}}f(t) \\cos(2n\\pi\\frac{t}{P})dt\n",
    "$$\n",
    ", \n",
    "$$\n",
    "b_n = \\frac{2}{P}\\int^{\\frac{P}{2}}_{-\\frac{P}{2}}f(t) \\sin(2n\\pi\\frac{t}{P})dt\n",
    "$$\n",
    "and the first term of expansion is defined by $a_{0}$ is twice the average of $f(t)$ over the domain $P$:\n",
    "$$\n",
    "\\frac{a_{0}}{2} = \\frac{1}{P}\\int^{\\frac{P}{2}}_{-\\frac{P}{2}}f(t)dt\n",
    "$$\n",
    "\n",
    "We can notice that:\n",
    "* if $f$ is an even function, which means $f(-t) = f(t)$, then $\\forall n \\in   \\rm I\\!N^{+}, b_{n} = 0 $\n",
    "* if $f$ is an odd function, which means $f(-t) = -f(t)$, then $\\forall n \\in   \\rm I\\!N^{+}, a_{n} = 0 $"
   ]
  },
  {
   "cell_type": "markdown",
   "metadata": {},
   "source": [
    "## Exercises\n",
    "### 1. Fourier Series expansion of basic functions \n",
    "For both functions of $f(t)=t$ and $f(t) = \\vert \\cos(\\pi\\frac{t}{P})\\vert$ \n",
    "* Q.1 - Define the function, with the assumption that is only defined on $P$.\n",
    "* Q.2 - Plot the function over $[\\frac{-P}{2}, \\frac{P}{2}]$ with $P = 1$\n",
    "* Q.3 - compute manually $a_n$ and $b_n$ and check if the function is even or odd \n",
    "* Q.4 - Give the first seven elements of $a_n$ or $b_n$ depending if the function is odd or even "
   ]
  },
  {
   "cell_type": "code",
   "execution_count": 58,
   "metadata": {},
   "outputs": [
    {
     "data": {
      "image/png": "[encoded data removed]",
      "text/plain": [
       "<matplotlib.figure.Figure at 0xa82c400>"
      ]
     },
     "metadata": {},
     "output_type": "display_data"
    },
    {
     "data": {
      "text/plain": [
       "<sympy.plotting.plot.Plot at 0xa523f60>"
      ]
     },
     "execution_count": 58,
     "metadata": {},
     "output_type": "execute_result"
    }
   ],
   "source": [
    "t= symbols('t', positive=True)\n",
    "def f(t):\n",
    "    return t\n",
    "\n",
    "plot(f(t), (t, -1/2, 1/2) )"
   ]
  },
  {
   "cell_type": "code",
   "execution_count": 59,
   "metadata": {
    "collapsed": true
   },
   "outputs": [],
   "source": [
    "n,p=symbols('n,p',positive=True)"
   ]
  },
  {
   "cell_type": "code",
   "execution_count": 60,
   "metadata": {},
   "outputs": [
    {
     "data": {
      "image/png": "[encoded data removed]",
      "text/latex": [
       "$$\\left ( \\frac{p^{2}}{2 \\pi^{2} n^{2}} \\left(- \\cos{\\left (\\pi n \\right )} + \\frac{2}{\\pi n} \\sin{\\left (\\pi n \\right )}\\right), \\quad 0\\right )$$"
      ],
      "text/plain": [
       "⎛ 2 ⎛            2⋅sin(π⋅n)⎞   ⎞\n",
       "⎜p ⋅⎜-cos(π⋅n) + ──────────⎟   ⎟\n",
       "⎜   ⎝               π⋅n    ⎠   ⎟\n",
       "⎜───────────────────────────, 0⎟\n",
       "⎜             2  2             ⎟\n",
       "⎝          2⋅π ⋅n              ⎠"
      ]
     },
     "execution_count": 60,
     "metadata": {},
     "output_type": "execute_result"
    }
   ],
   "source": [
    "a_n=(2/p)*(integrate(f(t)*cos(2*pi*n*t/p),t,(t,-p/2,p/2)))\n",
    "b_n=(2/p)*(integrate(f(t)*sin(2*pi*n*t/p),t,(t,-p/2,p/2)))\n",
    "a_n.trigsimp(),b_n.trigsimp()"
   ]
  },
  {
   "cell_type": "code",
   "execution_count": 61,
   "metadata": {},
   "outputs": [
    {
     "data": {
      "image/png": "[encoded data removed]",
      "text/latex": [
       "$$\\left [ \\frac{p^{2}}{2 \\pi^{2}}, \\quad - \\frac{p^{2}}{8 \\pi^{2}}, \\quad \\frac{p^{2}}{18 \\pi^{2}}, \\quad - \\frac{p^{2}}{32 \\pi^{2}}, \\quad \\frac{p^{2}}{50 \\pi^{2}}, \\quad - \\frac{p^{2}}{72 \\pi^{2}}\\right ]$$"
      ],
      "text/plain": [
       "⎡  2     2      2      2      2      2 ⎤\n",
       "⎢ p    -p      p     -p      p     -p  ⎥\n",
       "⎢────, ────, ─────, ─────, ─────, ─────⎥\n",
       "⎢   2     2      2      2      2      2⎥\n",
       "⎣2⋅π   8⋅π   18⋅π   32⋅π   50⋅π   72⋅π ⎦"
      ]
     },
     "execution_count": 61,
     "metadata": {},
     "output_type": "execute_result"
    }
   ],
   "source": [
    "[a_n.subs({n:i}) for i in range (1,7)]"
   ]
  },
  {
   "cell_type": "code",
   "execution_count": 62,
   "metadata": {},
   "outputs": [
    {
     "data": {
      "image/png": "[encoded data removed]",
      "text/plain": [
       "<matplotlib.figure.Figure at 0xa770780>"
      ]
     },
     "metadata": {},
     "output_type": "display_data"
    },
    {
     "data": {
      "text/plain": [
       "<sympy.plotting.plot.Plot at 0xafba080>"
      ]
     },
     "execution_count": 62,
     "metadata": {},
     "output_type": "execute_result"
    }
   ],
   "source": [
    "def f(t,p):\n",
    "    return abs(cos(pi*(t/p)))\n",
    "plot (f(t,1),(t,-1/2,1/2))"
   ]
  },
  {
   "cell_type": "code",
   "execution_count": 63,
   "metadata": {},
   "outputs": [
    {
     "data": {
      "image/png": "[encoded data removed]",
      "text/latex": [
       "$$\\left ( \\frac{2}{p} \\int_{- \\frac{p}{2}}^{\\frac{p}{2}}\\int \\cos{\\left (\\frac{2 \\pi}{p} n t \\right )} \\left|{\\cos{\\left (\\frac{\\pi t}{p} \\right )}}\\right|\\, dt\\, dt, \\quad \\frac{2}{p} \\int_{- \\frac{p}{2}}^{\\frac{p}{2}}\\int \\sin{\\left (\\frac{2 \\pi}{p} n t \\right )} \\left|{\\cos{\\left (\\frac{\\pi t}{p} \\right )}}\\right|\\, dt\\, dt\\right )$$"
      ],
      "text/plain": [
       "⎛   p                                      p                                 ⎞\n",
       "⎜   ─                                      ─                                 ⎟\n",
       "⎜   2                                      2                                 ⎟\n",
       "⎜   ⌠  ⌠                                   ⌠  ⌠                              ⎟\n",
       "⎜   ⎮  ⎮    ⎛2⋅π⋅n⋅t⎞ │   ⎛π⋅t⎞│           ⎮  ⎮    ⎛2⋅π⋅n⋅t⎞ │   ⎛π⋅t⎞│      ⎟\n",
       "⎜2⋅ ⎮  ⎮ cos⎜───────⎟⋅│cos⎜───⎟│ dt dt  2⋅ ⎮  ⎮ sin⎜───────⎟⋅│cos⎜───⎟│ dt dt⎟\n",
       "⎜   ⎮  ⎮    ⎝   p   ⎠ │   ⎝ p ⎠│           ⎮  ⎮    ⎝   p   ⎠ │   ⎝ p ⎠│      ⎟\n",
       "⎜   ⌡  ⌡                                   ⌡  ⌡                              ⎟\n",
       "⎜  -p                                     -p                                 ⎟\n",
       "⎜  ───                                    ───                                ⎟\n",
       "⎜   2                                      2                                 ⎟\n",
       "⎜─────────────────────────────────────, ─────────────────────────────────────⎟\n",
       "⎝                  p                                      p                  ⎠"
      ]
     },
     "execution_count": 63,
     "metadata": {},
     "output_type": "execute_result"
    }
   ],
   "source": [
    "a_n=(2/p)*(integrate(f(t,p)*cos(2*pi*n*t/p),t,(t,-p/2,p/2)))\n",
    "b_n=(2/p)*(integrate(f(t,p)*sin(2*pi*n*t/p),t,(t,-p/2,p/2)))\n",
    "a_n.trigsimp(),b_n.trigsimp()"
   ]
  },
  {
   "cell_type": "code",
   "execution_count": 65,
   "metadata": {},
   "outputs": [
    {
     "data": {
      "text/latex": [
       "$$\\left ( \\left [ 0, \\quad 0, \\quad 0, \\quad 0, \\quad 0, \\quad 0\\right ], \\quad \\left [ \\frac{2}{p^{6}} \\begin{cases} \\frac{p^{2}}{4 \\pi^{6}} & \\text{for}\\: n = \\frac{1}{2} \\\\\\frac{8 n p^{2} \\cos{\\left (\\pi n \\right )}}{\\left(4 \\pi n^{2} - 6 \\pi\\right)^{2}} & \\text{otherwise} \\end{cases}, \\quad \\frac{6}{p} \\begin{cases} \\frac{p^{6}}{4 \\pi} & \\text{for}\\: n = \\frac{1}{2} \\\\\\frac{8 n p^{6} \\cos{\\left (\\pi n \\right )}}{\\left(4 \\pi n^{6} - \\pi\\right)^{6}} & \\text{otherwise} \\end{cases}, \\quad \\frac{2}{p} \\begin{cases} \\frac{p^{2}}{4 \\pi} & \\text{for}\\: n = \\frac{1}{2} \\\\\\frac{8 n p^{2} \\cos{\\left (\\pi n \\right )}}{\\left(4 \\pi n^{2} - \\pi\\right)^{2}} & \\text{otherwise} \\end{cases}, \\quad \\frac{2}{p} \\begin{cases} \\frac{p^{2}}{4 \\pi} & \\text{for}\\: n = \\frac{1}{2} \\\\\\frac{8 n p^{2} \\cos{\\left (\\pi n \\right )}}{\\left(6 \\pi n^{2} - \\pi\\right)^{2}} & \\text{otherwise} \\end{cases}, \\quad \\frac{2}{p} \\begin{cases} \\frac{p^{2}}{4 \\pi} & \\text{for}\\: n = \\frac{1}{2} \\\\\\frac{8 n p^{2} \\cos{\\left (\\pi n \\right )}}{\\left(4 \\pi n^{2} - \\pi\\right)^{2}} & \\text{otherwise} \\end{cases}, \\quad \\frac{2}{p} \\begin{cases} \\frac{p^{2}}{4 \\pi} & \\text{for}\\: n = \\frac{1}{2} \\\\\\frac{8 n p^{2} \\cos{\\left (\\pi n \\right )}}{\\left(4 \\pi n^{2} - \\pi\\right)^{2}} & \\text{otherwise} \\end{cases}\\right ]\\right )$$"
      ],
      "text/plain": [
       "⎛                    ⎡  ⎛⎧       2                    ⎞                       \n",
       "⎜                    ⎢  ⎜⎪      p                     ⎟                       \n",
       "⎜                    ⎢  ⎜⎪     ────        for n = 1/2⎟    ⎛⎧        6        \n",
       "⎜                    ⎢  ⎜⎪        6                   ⎟    ⎜⎪       p         \n",
       "⎜                    ⎢  ⎜⎪     4⋅π                    ⎟    ⎜⎪      ───        \n",
       "⎜                    ⎢  ⎜⎪                            ⎟    ⎜⎪      4⋅π        \n",
       "⎜                    ⎢2⋅⎜⎨     2                      ⎟    ⎜⎪                 \n",
       "⎜                    ⎢  ⎜⎪8⋅n⋅p ⋅cos(π⋅n)             ⎟  6⋅⎜⎨     6           \n",
       "⎜                    ⎢  ⎜⎪───────────────   otherwise ⎟    ⎜⎪8⋅n⋅p ⋅cos(π⋅n)  \n",
       "⎜                    ⎢  ⎜⎪              2             ⎟    ⎜⎪───────────────  \n",
       "⎜                    ⎢  ⎜⎪⎛     2      ⎞              ⎟    ⎜⎪             6   \n",
       "⎜                    ⎢  ⎜⎪⎝4⋅π⋅n  - 6⋅π⎠              ⎟    ⎜⎪ ⎛     6    ⎞    \n",
       "⎜                    ⎢  ⎝⎩                            ⎠    ⎝⎩ ⎝4⋅π⋅n  - π⎠    \n",
       "⎜[0, 0, 0, 0, 0, 0], ⎢─────────────────────────────────, ─────────────────────\n",
       "⎜                    ⎢                 6                                 p    \n",
       "⎝                    ⎣                p                                       \n",
       "\n",
       "                                                                              \n",
       "                                                                              \n",
       "           ⎞    ⎛⎧        2                   ⎞    ⎛⎧        2                \n",
       "           ⎟    ⎜⎪       p                    ⎟    ⎜⎪       p                 \n",
       "for n = 1/2⎟    ⎜⎪      ───        for n = 1/2⎟    ⎜⎪      ───        for n = \n",
       "           ⎟    ⎜⎪      4⋅π                   ⎟    ⎜⎪      4⋅π                \n",
       "           ⎟    ⎜⎪                            ⎟    ⎜⎪                         \n",
       "           ⎟  2⋅⎜⎨     2                      ⎟  2⋅⎜⎨     2                   \n",
       "           ⎟    ⎜⎪8⋅n⋅p ⋅cos(π⋅n)             ⎟    ⎜⎪8⋅n⋅p ⋅cos(π⋅n)          \n",
       " otherwise ⎟    ⎜⎪───────────────   otherwise ⎟    ⎜⎪───────────────   otherwi\n",
       "           ⎟    ⎜⎪             2              ⎟    ⎜⎪             2           \n",
       "           ⎟    ⎜⎪ ⎛     2    ⎞               ⎟    ⎜⎪ ⎛     2    ⎞            \n",
       "           ⎠    ⎝⎩ ⎝4⋅π⋅n  - π⎠               ⎠    ⎝⎩ ⎝6⋅π⋅n  - π⎠            \n",
       "────────────, ─────────────────────────────────, ─────────────────────────────\n",
       "                              p                                  p            \n",
       "                                                                              \n",
       "\n",
       "                                                                          ⎤⎞\n",
       "                                                                          ⎥⎟\n",
       "   ⎞    ⎛⎧        2                   ⎞    ⎛⎧        2                   ⎞⎥⎟\n",
       "   ⎟    ⎜⎪       p                    ⎟    ⎜⎪       p                    ⎟⎥⎟\n",
       "1/2⎟    ⎜⎪      ───        for n = 1/2⎟    ⎜⎪      ───        for n = 1/2⎟⎥⎟\n",
       "   ⎟    ⎜⎪      4⋅π                   ⎟    ⎜⎪      4⋅π                   ⎟⎥⎟\n",
       "   ⎟    ⎜⎪                            ⎟    ⎜⎪                            ⎟⎥⎟\n",
       "   ⎟  2⋅⎜⎨     2                      ⎟  2⋅⎜⎨     2                      ⎟⎥⎟\n",
       "   ⎟    ⎜⎪8⋅n⋅p ⋅cos(π⋅n)             ⎟    ⎜⎪8⋅n⋅p ⋅cos(π⋅n)             ⎟⎥⎟\n",
       "se ⎟    ⎜⎪───────────────   otherwise ⎟    ⎜⎪───────────────   otherwise ⎟⎥⎟\n",
       "   ⎟    ⎜⎪             2              ⎟    ⎜⎪             2              ⎟⎥⎟\n",
       "   ⎟    ⎜⎪ ⎛     2    ⎞               ⎟    ⎜⎪ ⎛     2    ⎞               ⎟⎥⎟\n",
       "   ⎠    ⎝⎩ ⎝4⋅π⋅n  - π⎠               ⎠    ⎝⎩ ⎝4⋅π⋅n  - π⎠               ⎠⎥⎟\n",
       "────, ─────────────────────────────────, ─────────────────────────────────⎥⎟\n",
       "                      p                                  p                ⎥⎟\n",
       "                                                                          ⎦⎠"
      ]
     },
     "execution_count": 65,
     "metadata": {},
     "output_type": "execute_result"
    }
   ],
   "source": [
    "a_n=(2/p)*(integrate(cos(pi*(t/p))*cos(2*pi*n*t/p),t,(t,-p/2,p/2)))\n",
    "b_n=(2/p)*(integrate(cos(pi*(t/p))*sin(2*pi*n*t/p),t,(t,-p/2,p/2)))\n",
    "[a_n.subs({p:i}) for p in range (1,7)],[b_n.subs({p:i}) for p in range (1,7)]"
   ]
  },
  {
   "cell_type": "markdown",
   "metadata": {},
   "source": [
    "## Fourier Series functions of sympy"
   ]
  },
  {
   "cell_type": "code",
   "execution_count": 66,
   "metadata": {
    "collapsed": true
   },
   "outputs": [],
   "source": [
    "s= fourier_series(f(t,1), (t, -pi, pi))"
   ]
  },
  {
   "cell_type": "code",
   "execution_count": 67,
   "metadata": {},
   "outputs": [
    {
     "data": {
      "image/png": "[encoded data removed]",
      "text/latex": [
       "$$\\frac{1}{\\pi} \\cos{\\left (t \\right )} \\int_{- \\pi}^{\\pi} \\cos{\\left (t \\right )} \\left|{\\cos{\\left (\\pi t \\right )}}\\right|\\, dt + \\frac{1}{\\pi} \\cos{\\left (2 t \\right )} \\int_{- \\pi}^{\\pi} \\cos{\\left (2 t \\right )} \\left|{\\cos{\\left (\\pi t \\right )}}\\right|\\, dt + \\frac{1}{2 \\pi} \\int_{- \\pi}^{\\pi} \\left|{\\cos{\\left (\\pi t \\right )}}\\right|\\, dt$$"
      ],
      "text/plain": [
       "       π                                  π                           π       \n",
       "       ⌠                                  ⌠                           ⌠       \n",
       "cos(t)⋅⎮  cos(t)⋅│cos(π⋅t)│ dt   cos(2⋅t)⋅⎮  cos(2⋅t)⋅│cos(π⋅t)│ dt   ⎮  │cos(\n",
       "       ⌡                                  ⌡                           ⌡       \n",
       "       -π                                 -π                          -π      \n",
       "────────────────────────────── + ────────────────────────────────── + ────────\n",
       "              π                                  π                          2⋅\n",
       "\n",
       "        \n",
       "        \n",
       "π⋅t)│ dt\n",
       "        \n",
       "        \n",
       "────────\n",
       "π       "
      ]
     },
     "execution_count": 67,
     "metadata": {},
     "output_type": "execute_result"
    }
   ],
   "source": [
    "s.truncate(3)"
   ]
  },
  {
   "cell_type": "code",
   "execution_count": 68,
   "metadata": {
    "collapsed": true
   },
   "outputs": [],
   "source": [
    "from sympy.series import fourier"
   ]
  },
  {
   "cell_type": "code",
   "execution_count": 69,
   "metadata": {
    "collapsed": true
   },
   "outputs": [],
   "source": [
    "s2 = fourier.fourier_series(f(t,1), (-pi, pi))\n"
   ]
  },
  {
   "cell_type": "code",
   "execution_count": 73,
   "metadata": {},
   "outputs": [
    {
     "data": {
      "text/latex": [
       "$$\\left\\[\\frac{1}{\\pi} \\cos{\\left (t \\right )} \\int_{- \\pi}^{\\pi} \\cos{\\left (t \\right )} \\left|{\\cos{\\left (\\pi t \\right )}}\\right|\\, dt, \\frac{1}{\\pi} \\cos{\\left (2 t \\right )} \\int_{- \\pi}^{\\pi} \\cos{\\left (2 t \\right )} \\left|{\\cos{\\left (\\pi t \\right )}}\\right|\\, dt, \\frac{1}{\\pi} \\cos{\\left (3 t \\right )} \\int_{- \\pi}^{\\pi} \\cos{\\left (3 t \\right )} \\left|{\\cos{\\left (\\pi t \\right )}}\\right|\\, dt, \\frac{1}{\\pi} \\cos{\\left (4 t \\right )} \\int_{- \\pi}^{\\pi} \\cos{\\left (4 t \\right )} \\left|{\\cos{\\left (\\pi t \\right )}}\\right|\\, dt, \\ldots\\right\\]$$"
      ],
      "text/plain": [
       "⎡       π                                 π                                   \n",
       "⎢       ⌠                                 ⌠                                   \n",
       "⎢cos(t)⋅⎮  cos(t)⋅│cos(π⋅t)│ dt  cos(2⋅t)⋅⎮  cos(2⋅t)⋅│cos(π⋅t)│ dt  cos(3⋅t)⋅\n",
       "⎢       ⌡                                 ⌡                                   \n",
       "⎢       -π                                -π                                  \n",
       "⎢──────────────────────────────, ──────────────────────────────────, ─────────\n",
       "⎣              π                                 π                            \n",
       "\n",
       "π                                   π                           ⎤\n",
       "⌠                                   ⌠                           ⎥\n",
       "⎮  cos(3⋅t)⋅│cos(π⋅t)│ dt  cos(4⋅t)⋅⎮  cos(4⋅t)⋅│cos(π⋅t)│ dt   ⎥\n",
       "⌡                                   ⌡                           ⎥\n",
       "-π                                  -π                          ⎥\n",
       "─────────────────────────, ──────────────────────────────────, …⎥\n",
       "       π                                   π                    ⎦"
      ]
     },
     "execution_count": 73,
     "metadata": {},
     "output_type": "execute_result"
    }
   ],
   "source": [
    "s2.an"
   ]
  },
  {
   "cell_type": "code",
   "execution_count": 71,
   "metadata": {},
   "outputs": [
    {
     "name": "stdout",
     "output_type": "stream",
     "text": [
      "No\n"
     ]
    }
   ],
   "source": [
    "if s2.is_even:\n",
    "    print ('yes')\n",
    "else:\n",
    "    print ('No')"
   ]
  },
  {
   "cell_type": "code",
   "execution_count": 74,
   "metadata": {},
   "outputs": [
    {
     "data": {
      "image/png": "[encoded data removed]",
      "text/latex": [
       "$$\\left ( \\frac{1}{\\pi} \\cos{\\left (n t \\right )} \\int_{- \\pi}^{\\pi} \\cos{\\left (n t \\right )} \\left|{\\cos{\\left (\\pi t \\right )}}\\right|\\, dt, \\quad \\left ( n, \\quad 1, \\quad \\infty\\right )\\right )$$"
      ],
      "text/plain": [
       "⎛         π                                   ⎞\n",
       "⎜         ⌠                                   ⎟\n",
       "⎜cos(n⋅t)⋅⎮  cos(n⋅t)⋅│cos(π⋅t)│ dt           ⎟\n",
       "⎜         ⌡                                   ⎟\n",
       "⎜         -π                                  ⎟\n",
       "⎜──────────────────────────────────, (n, 1, ∞)⎟\n",
       "⎝                π                            ⎠"
      ]
     },
     "execution_count": 74,
     "metadata": {},
     "output_type": "execute_result"
    }
   ],
   "source": [
    "s2.an.args"
   ]
  }
 ],
 "metadata": {
  "kernelspec": {
   "display_name": "Python 2",
   "language": "python",
   "name": "python2"
  },
  "language_info": {
   "codemirror_mode": {
    "name": "ipython",
    "version": 2
   },
   "file_extension": ".py",
   "mimetype": "text/x-python",
   "name": "python",
   "nbconvert_exporter": "python",
   "pygments_lexer": "ipython2",
   "version": "2.7.13"
  }
 },
 "nbformat": 4,
 "nbformat_minor": 2
}
