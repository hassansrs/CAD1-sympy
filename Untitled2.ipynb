{
 "cells": [
  {
   "cell_type": "code",
   "execution_count": 1,
   "metadata": {
    "collapsed": true
   },
   "outputs": [],
   "source": [
    "import matplotlib.pyplot as plt\n",
    "from sympy import *\n",
    "init_printing(use_unicode=True)\n",
    "import numpy as np "
   ]
  },
  {
   "cell_type": "code",
   "execution_count": 11,
   "metadata": {
    "collapsed": true
   },
   "outputs": [],
   "source": [
    "g,x,v0,alpha,h=symbols('g,x,v0,alpha,h')\n",
    "def z(g,x,v0,alpha,h):\n",
    "    return -g/2*(x**2/(v0**2*cos(alpha)**2))+x*tan(alpha)+h"
   ]
  },
  {
   "cell_type": "code",
   "execution_count": 12,
   "metadata": {},
   "outputs": [
    {
     "data": {
      "image/png": "[encoded data removed]",
      "text/latex": [
       "$$- \\frac{g x^{2}}{2 v_{0}^{2} \\cos^{2}{\\left (\\alpha \\right )}} + h + x \\tan{\\left (\\alpha \\right )}$$"
      ],
      "text/plain": [
       "          2                   \n",
       "       g⋅x                    \n",
       "- ───────────── + h + x⋅tan(α)\n",
       "      2    2                  \n",
       "  2⋅v₀ ⋅cos (α)               "
      ]
     },
     "execution_count": 12,
     "metadata": {},
     "output_type": "execute_result"
    }
   ],
   "source": [
    "z(g,x,v0,alpha,h)"
   ]
  },
  {
   "cell_type": "code",
   "execution_count": 17,
   "metadata": {},
   "outputs": [
    {
     "data": {
      "image/png": "[encoded data removed]",
      "text/plain": [
       "<matplotlib.figure.Figure at 0x8d56b00>"
      ]
     },
     "metadata": {},
     "output_type": "display_data"
    },
    {
     "data": {
      "text/plain": [
       "<sympy.plotting.plot.Plot at 0x7baaf98>"
      ]
     },
     "execution_count": 17,
     "metadata": {},
     "output_type": "execute_result"
    }
   ],
   "source": [
    "plot(z(9.81,x,8,np.deg2rad(40),1.7),(x,0,10))"
   ]
  },
  {
   "cell_type": "code",
   "execution_count": 22,
   "metadata": {},
   "outputs": [
    {
     "data": {
      "image/png": "[encoded data removed]",
      "text/latex": [
       "$$\\tan{\\left (\\alpha \\right )} - \\frac{9.81 x}{v_{0}^{2} \\cos^{2}{\\left (\\alpha \\right )}}$$"
      ],
      "text/plain": [
       "            9.81⋅x  \n",
       "tan(α) - ───────────\n",
       "           2    2   \n",
       "         v₀ ⋅cos (α)"
      ]
     },
     "execution_count": 22,
     "metadata": {},
     "output_type": "execute_result"
    }
   ],
   "source": [
    "f_di=diff(z(9.81,x,v0,alpha,h),x)\n",
    "f_di"
   ]
  },
  {
   "cell_type": "code",
   "execution_count": 24,
   "metadata": {},
   "outputs": [
    {
     "data": {
      "image/png": "[encoded data removed]",
      "text/latex": [
       "$$\\left\\{0.101936799184506 v_{0}^{2} \\cos^{2}{\\left (\\alpha \\right )} \\tan{\\left (\\alpha \\right )}\\right\\}$$"
      ],
      "text/plain": [
       "⎧                    2    2          ⎫\n",
       "⎨0.101936799184506⋅v₀ ⋅cos (α)⋅tan(α)⎬\n",
       "⎩                                    ⎭"
      ]
     },
     "execution_count": 24,
     "metadata": {},
     "output_type": "execute_result"
    }
   ],
   "source": [
    "f_sol=solveset(f_di,x)\n",
    "f_sol"
   ]
  },
  {
   "cell_type": "code",
   "execution_count": 27,
   "metadata": {},
   "outputs": [
    {
     "data": {
      "image/png": "[encoded data removed]",
      "text/latex": [
       "$$0.0101936799184506 v_{0} \\left(10.0 v_{0} \\sin{\\left (\\alpha \\right )} + \\sqrt{1962.0 h + 100.0 v_{0}^{2} \\sin^{2}{\\left (\\alpha \\right )}}\\right) \\cos{\\left (\\alpha \\right )}$$"
      ],
      "text/plain": [
       "                      ⎛                    ______________________________⎞    \n",
       "                      ⎜                   ╱                    2    2    ⎟    \n",
       "0.0101936799184506⋅v₀⋅⎝10.0⋅v₀⋅sin(α) + ╲╱  1962.0⋅h + 100.0⋅v₀ ⋅sin (α) ⎠⋅cos\n",
       "\n",
       "   \n",
       "   \n",
       "(α)"
      ]
     },
     "execution_count": 27,
     "metadata": {},
     "output_type": "execute_result"
    }
   ],
   "source": [
    "mdis=solve(z(9.81,x,v0,alpha,h),x)\n",
    "mdis[1]"
   ]
  },
  {
   "cell_type": "code",
   "execution_count": 29,
   "metadata": {},
   "outputs": [
    {
     "data": {
      "image/png": "[encoded data removed]",
      "text/latex": [
       "$$- 0.0101936799184506 v_{0} \\left(10.0 v_{0} \\sin{\\left (\\alpha \\right )} + \\sqrt{1962.0 h + 100.0 v_{0}^{2} \\sin^{2}{\\left (\\alpha \\right )}}\\right) \\sin{\\left (\\alpha \\right )} + 0.0101936799184506 v_{0} \\left(\\frac{100.0 v_{0}^{2} \\sin{\\left (\\alpha \\right )} \\cos{\\left (\\alpha \\right )}}{\\sqrt{1962.0 h + 100.0 v_{0}^{2} \\sin^{2}{\\left (\\alpha \\right )}}} + 10.0 v_{0} \\cos{\\left (\\alpha \\right )}\\right) \\cos{\\left (\\alpha \\right )}$$"
      ],
      "text/plain": [
       "                        ⎛                    ______________________________⎞  \n",
       "                        ⎜                   ╱                    2    2    ⎟  \n",
       "- 0.0101936799184506⋅v₀⋅⎝10.0⋅v₀⋅sin(α) + ╲╱  1962.0⋅h + 100.0⋅v₀ ⋅sin (α) ⎠⋅s\n",
       "                                                                              \n",
       "                                                                              \n",
       "                                                                              \n",
       "\n",
       "                              ⎛             2                                 \n",
       "                              ⎜     100.0⋅v₀ ⋅sin(α)⋅cos(α)                   \n",
       "in(α) + 0.0101936799184506⋅v₀⋅⎜───────────────────────────────── + 10.0⋅v₀⋅cos\n",
       "                              ⎜   ______________________________              \n",
       "                              ⎜  ╱                    2    2                  \n",
       "                              ⎝╲╱  1962.0⋅h + 100.0⋅v₀ ⋅sin (α)               \n",
       "\n",
       "   ⎞       \n",
       "   ⎟       \n",
       "(α)⎟⋅cos(α)\n",
       "   ⎟       \n",
       "   ⎟       \n",
       "   ⎠       "
      ]
     },
     "execution_count": 29,
     "metadata": {},
     "output_type": "execute_result"
    }
   ],
   "source": [
    "c=diff(mdis[1],alpha)\n",
    "c"
   ]
  },
  {
   "cell_type": "code",
   "execution_count": 30,
   "metadata": {},
   "outputs": [
    {
     "data": {
      "image/png": "[encoded data removed]",
      "text/plain": [
       "<matplotlib.figure.Figure at 0x9d05a58>"
      ]
     },
     "metadata": {},
     "output_type": "display_data"
    },
    {
     "data": {
      "text/plain": [
       "<sympy.plotting.plot.Plot at 0x9bf6908>"
      ]
     },
     "execution_count": 30,
     "metadata": {},
     "output_type": "execute_result"
    }
   ],
   "source": [
    "plot(c.subs({v0:8,h:1.7}),(alpha,0,pi/2))"
   ]
  },
  {
   "cell_type": "code",
   "execution_count": 36,
   "metadata": {},
   "outputs": [
    {
     "data": {
      "image/png": "[encoded data removed]",
      "text/latex": [
       "$$0.681290966881072$$"
      ],
      "text/plain": [
       "0.681290966881072"
      ]
     },
     "execution_count": 36,
     "metadata": {},
     "output_type": "execute_result"
    }
   ],
   "source": [
    "u=solve(c.subs({v0:8,h:1.7}),alpha)\n",
    "u[0]"
   ]
  },
  {
   "cell_type": "code",
   "execution_count": 38,
   "metadata": {},
   "outputs": [
    {
     "data": {
      "image/png": "[encoded data removed]",
      "text/latex": [
       "$$\\left [ \\right ]$$"
      ],
      "text/plain": [
       "[]"
      ]
     },
     "execution_count": 38,
     "metadata": {},
     "output_type": "execute_result"
    }
   ],
   "source": [
    "l=solve(c.subs({h:0}),alpha)\n",
    "l"
   ]
  },
  {
   "cell_type": "code",
   "execution_count": 39,
   "metadata": {
    "collapsed": true
   },
   "outputs": [],
   "source": [
    "t=symbols('t')"
   ]
  },
  {
   "cell_type": "code",
   "execution_count": 40,
   "metadata": {
    "collapsed": true
   },
   "outputs": [],
   "source": [
    "x=Function('x')"
   ]
  },
  {
   "cell_type": "code",
   "execution_count": 42,
   "metadata": {},
   "outputs": [],
   "source": [
    "z=Function('z')"
   ]
  },
  {
   "cell_type": "code",
   "execution_count": 47,
   "metadata": {},
   "outputs": [
    {
     "data": {
      "image/png": "[encoded data removed]",
      "text/latex": [
       "$$\\frac{d^{2}}{d t^{2}}  x{\\left (t \\right )} = 0$$"
      ],
      "text/plain": [
       "  2          \n",
       " d           \n",
       "───(x(t)) = 0\n",
       "  2          \n",
       "dt           "
      ]
     },
     "execution_count": 47,
     "metadata": {},
     "output_type": "execute_result"
    }
   ],
   "source": [
    "eqx=Eq(x(t).diff(t,2))\n",
    "eqx"
   ]
  },
  {
   "cell_type": "code",
   "execution_count": 48,
   "metadata": {},
   "outputs": [
    {
     "data": {
      "image/png": "[encoded data removed]",
      "text/latex": [
       "$$\\frac{d^{2}}{d t^{2}}  z{\\left (t \\right )} = - g$$"
      ],
      "text/plain": [
       "  2           \n",
       " d            \n",
       "───(z(t)) = -g\n",
       "  2           \n",
       "dt            "
      ]
     },
     "execution_count": 48,
     "metadata": {},
     "output_type": "execute_result"
    }
   ],
   "source": [
    "eqz=Eq(z(t).diff(t,2),-g)\n",
    "eqz"
   ]
  },
  {
   "cell_type": "code",
   "execution_count": 54,
   "metadata": {},
   "outputs": [
    {
     "data": {
      "image/png": "[encoded data removed]",
      "text/latex": [
       "$$z{\\left (t \\right )} = C_{1} + C_{2} t - \\frac{g t^{2}}{2}$$"
      ],
      "text/plain": [
       "                      2\n",
       "                   g⋅t \n",
       "z(t) = C₁ + C₂⋅t - ────\n",
       "                    2  "
      ]
     },
     "execution_count": 54,
     "metadata": {},
     "output_type": "execute_result"
    }
   ],
   "source": [
    "e=dsolve(eqz,z(t))\n",
    "e"
   ]
  },
  {
   "cell_type": "code",
   "execution_count": 55,
   "metadata": {},
   "outputs": [
    {
     "data": {
      "image/png": "[encoded data removed]",
      "text/latex": [
       "$$z{\\left (t \\right )} = - \\frac{g t^{2}}{2} + h + t v_{0}$$"
      ],
      "text/plain": [
       "            2           \n",
       "         g⋅t            \n",
       "z(t) = - ──── + h + t⋅v₀\n",
       "          2             "
      ]
     },
     "execution_count": 55,
     "metadata": {},
     "output_type": "execute_result"
    }
   ],
   "source": [
    "v0,C1,C2=symbols('v0,C1,C2')\n",
    "e.subs({C1:h,C2:v0})"
   ]
  },
  {
   "cell_type": "code",
   "execution_count": 56,
   "metadata": {},
   "outputs": [
    {
     "data": {
      "image/png": "[encoded data removed]",
      "text/latex": [
       "$$x{\\left (t \\right )} = t v_{0} + x_{0}$$"
      ],
      "text/plain": [
       "x(t) = t⋅v₀ + x₀"
      ]
     },
     "execution_count": 56,
     "metadata": {},
     "output_type": "execute_result"
    }
   ],
   "source": [
    "x0 = symbols('x0')\n",
    "s = dsolve(eqx, x(t))\n",
    "s.subs({C1:x0, C2:v0})"
   ]
  },
  {
   "cell_type": "code",
   "execution_count": null,
   "metadata": {
    "collapsed": true
   },
   "outputs": [],
   "source": []
  }
 ],
 "metadata": {
  "kernelspec": {
   "display_name": "Python 2",
   "language": "python",
   "name": "python2"
  },
  "language_info": {
   "codemirror_mode": {
    "name": "ipython",
    "version": 2
   },
   "file_extension": ".py",
   "mimetype": "text/x-python",
   "name": "python",
   "nbconvert_exporter": "python",
   "pygments_lexer": "ipython2",
   "version": "2.7.13"
  }
 },
 "nbformat": 4,
 "nbformat_minor": 2
}
