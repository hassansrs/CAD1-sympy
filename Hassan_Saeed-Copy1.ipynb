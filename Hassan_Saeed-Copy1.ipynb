{
 "cells": [
  {
   "cell_type": "code",
   "execution_count": 3,
   "metadata": {},
   "outputs": [],
   "source": [
    "from sympy import *\n",
    "from sympy.interactive.printing import init_printing\n",
    "init_printing (use_unicode=True)\n",
    "import matplotlib.pyplot as plt\n",
    "import numpy as np"
   ]
  },
  {
   "cell_type": "code",
   "execution_count": 4,
   "metadata": {
    "collapsed": true
   },
   "outputs": [],
   "source": [
    "z=symbols('z')"
   ]
  },
  {
   "cell_type": "code",
   "execution_count": 5,
   "metadata": {},
   "outputs": [
    {
     "data": {
      "image/png": "[encoded data removed]",
      "text/latex": [
       "$$\\left [ -3 - \\sqrt{8 + 2 i}, \\quad -3 + \\sqrt{8 + 2 i}\\right ]$$"
      ],
      "text/plain": [
       "⎡       _________         _________⎤\n",
       "⎣-3 - ╲╱ 8 + 2⋅ⅈ , -3 + ╲╱ 8 + 2⋅ⅈ ⎦"
      ]
     },
     "execution_count": 5,
     "metadata": {},
     "output_type": "execute_result"
    }
   ],
   "source": [
    "solve(z**2+6*z+(1-2*I),z)"
   ]
  },
  {
   "cell_type": "code",
   "execution_count": 6,
   "metadata": {},
   "outputs": [
    {
     "data": {
      "image/png": "[encoded data removed]",
      "text/latex": [
       "$$\\left [ -3 - \\frac{i}{2}, \\quad -3 + \\frac{i}{2}\\right ]$$"
      ],
      "text/plain": [
       "⎡     ⅈ       ⅈ⎤\n",
       "⎢-3 - ─, -3 + ─⎥\n",
       "⎣     2       2⎦"
      ]
     },
     "execution_count": 6,
     "metadata": {},
     "output_type": "execute_result"
    }
   ],
   "source": [
    "solve(4*z**2+24*z+37,z)"
   ]
  },
  {
   "cell_type": "code",
   "execution_count": 7,
   "metadata": {
    "collapsed": true
   },
   "outputs": [],
   "source": [
    "#checking using another method\n",
    "c=Eq(4*z**2+24*z+37)"
   ]
  },
  {
   "cell_type": "code",
   "execution_count": 8,
   "metadata": {},
   "outputs": [
    {
     "data": {
      "image/png": "[encoded data removed]",
      "text/latex": [
       "$$\\left [ -3 - \\frac{i}{2}, \\quad -3 + \\frac{i}{2}\\right ]$$"
      ],
      "text/plain": [
       "⎡     ⅈ       ⅈ⎤\n",
       "⎢-3 - ─, -3 + ─⎥\n",
       "⎣     2       2⎦"
      ]
     },
     "execution_count": 8,
     "metadata": {},
     "output_type": "execute_result"
    }
   ],
   "source": [
    "solve(c,z)"
   ]
  },
  {
   "cell_type": "code",
   "execution_count": 13,
   "metadata": {},
   "outputs": [
    {
     "data": {
      "image/png": "[encoded data removed]",
      "text/latex": [
       "$$\\left [ \\frac{\\pi}{15}, \\quad \\frac{\\pi}{3}\\right ]$$"
      ],
      "text/plain": [
       "⎡π   π⎤\n",
       "⎢──, ─⎥\n",
       "⎣15  3⎦"
      ]
     },
     "execution_count": 13,
     "metadata": {},
     "output_type": "execute_result"
    }
   ],
   "source": [
    "x=symbols('x')\n",
    "s=2*sin(5*x/2)-1\n",
    "#solving x w.r.t to x\n",
    "solve(s,x)"
   ]
  },
  {
   "cell_type": "code",
   "execution_count": 14,
   "metadata": {},
   "outputs": [
    {
     "data": {
      "image/png": "[encoded data removed]",
      "text/latex": [
       "$$\\left [ \\frac{1}{2}\\right ]$$"
      ],
      "text/plain": [
       "[1/2]"
      ]
     },
     "execution_count": 14,
     "metadata": {},
     "output_type": "execute_result"
    }
   ],
   "source": [
    "#solving x w.r.t to sin(5*x/2)\n",
    "solve(s,sin(5*x/2))"
   ]
  },
  {
   "cell_type": "code",
   "execution_count": 17,
   "metadata": {},
   "outputs": [
    {
     "data": {
      "image/png": "[encoded data removed]",
      "text/latex": [
       "$$\\left [ 0, \\quad - \\sqrt{3} i, \\quad \\sqrt{3} i\\right ]$$"
      ],
      "text/plain": [
       "[0, -√3⋅ⅈ, √3⋅ⅈ]"
      ]
     },
     "execution_count": 17,
     "metadata": {},
     "output_type": "execute_result"
    }
   ],
   "source": [
    "eq2=(3*x**2+1)-((x**2+1)**3)\n",
    "solve(eq2,x)"
   ]
  },
  {
   "cell_type": "code",
   "execution_count": 21,
   "metadata": {},
   "outputs": [
    {
     "data": {
      "image/png": "[encoded data removed]",
      "text/latex": [
       "$$\\left [ - \\frac{2 \\pi}{3}, \\quad - \\frac{\\pi}{3}, \\quad \\frac{\\pi}{3}, \\quad \\frac{2 \\pi}{3}\\right ]$$"
      ],
      "text/plain": [
       "⎡-2⋅π   -π   π  2⋅π⎤\n",
       "⎢─────, ───, ─, ───⎥\n",
       "⎣  3     3   3   3 ⎦"
      ]
     },
     "execution_count": 21,
     "metadata": {},
     "output_type": "execute_result"
    }
   ],
   "source": [
    "eq3=4*cot(x)*cos(x)**2-cot(x)\n",
    "#solving x w.r.t to x\n",
    "solve(eq3,x)"
   ]
  },
  {
   "cell_type": "code",
   "execution_count": 22,
   "metadata": {},
   "outputs": [
    {
     "data": {
      "image/png": "[encoded data removed]",
      "text/latex": [
       "$$\\left [ - \\frac{1}{2}, \\quad \\frac{1}{2}\\right ]$$"
      ],
      "text/plain": [
       "[-1/2, 1/2]"
      ]
     },
     "execution_count": 22,
     "metadata": {},
     "output_type": "execute_result"
    }
   ],
   "source": [
    "#solving x w.r.t to cos(x)\n",
    "solve(eq3,cos(x))"
   ]
  },
  {
   "cell_type": "markdown",
   "metadata": {},
   "source": [
    "Exercise1.2"
   ]
  },
  {
   "cell_type": "code",
   "execution_count": 26,
   "metadata": {},
   "outputs": [
    {
     "data": {
      "text/latex": [
       "$$4 \\cos{\\left (2 x \\right )} \\left. \\frac{d}{d \\xi_{1}} F{\\left (\\xi_{1} \\right )} \\right|_{\\substack{ \\xi_{1}=2 \\sin{\\left (2 x \\right )} }}$$"
      ],
      "text/plain": [
       "           ⎛ d        ⎞│             \n",
       "4⋅cos(2⋅x)⋅⎜───(F(ξ₁))⎟│             \n",
       "           ⎝dξ₁       ⎠│ξ₁=2⋅sin(2⋅x)"
      ]
     },
     "execution_count": 26,
     "metadata": {},
     "output_type": "execute_result"
    }
   ],
   "source": [
    "f=Function('F')(2*sin(2*x))\n",
    "#displaying the first derivative\n",
    "f.diff()"
   ]
  },
  {
   "cell_type": "code",
   "execution_count": 27,
   "metadata": {},
   "outputs": [
    {
     "data": {
      "text/latex": [
       "$$- 8 \\sin{\\left (2 x \\right )} \\left. \\frac{d}{d \\xi_{1}} F{\\left (\\xi_{1} \\right )} \\right|_{\\substack{ \\xi_{1}=2 \\sin{\\left (2 x \\right )} }} + 16 \\cos^{2}{\\left (2 x \\right )} \\left. \\frac{d^{2}}{d \\xi_{1}^{2}}  F{\\left (\\xi_{1} \\right )} \\right|_{\\substack{ \\xi_{1}=2 \\sin{\\left (2 x \\right )} }}$$"
      ],
      "text/plain": [
       "                                                       ⎛  2        ⎞│         \n",
       "             ⎛ d        ⎞│                      2      ⎜ d         ⎟│         \n",
       "- 8⋅sin(2⋅x)⋅⎜───(F(ξ₁))⎟│              + 16⋅cos (2⋅x)⋅⎜────(F(ξ₁))⎟│         \n",
       "             ⎝dξ₁       ⎠│ξ₁=2⋅sin(2⋅x)                ⎜   2       ⎟│         \n",
       "                                                       ⎝dξ₁        ⎠│ξ₁=2⋅sin(\n",
       "\n",
       "    \n",
       "    \n",
       "    \n",
       "    \n",
       "2⋅x)"
      ]
     },
     "execution_count": 27,
     "metadata": {},
     "output_type": "execute_result"
    }
   ],
   "source": [
    "#displaying the second derivative\n",
    "diff(f.diff())"
   ]
  },
  {
   "cell_type": "code",
   "execution_count": 29,
   "metadata": {},
   "outputs": [
    {
     "data": {
      "text/latex": [
       "$$\\left(- \\frac{\\sin{\\left (x \\right )}}{\\cos{\\left (x \\right )} + 1} + \\frac{\\sin{\\left (x \\right )} \\cos{\\left (x \\right )}}{\\left(\\cos{\\left (x \\right )} + 1\\right)^{2}}\\right) \\left. \\frac{d}{d \\xi_{1}} F{\\left (\\xi_{1} \\right )} \\right|_{\\substack{ \\xi_{1}=\\frac{\\cos{\\left (x \\right )}}{\\cos{\\left (x \\right )} + 1} }}$$"
      ],
      "text/plain": [
       "⎛    sin(x)     sin(x)⋅cos(x)⎞ ⎛ d        ⎞│             \n",
       "⎜- ────────── + ─────────────⎟⋅⎜───(F(ξ₁))⎟│     cos(x)  \n",
       "⎜  cos(x) + 1               2⎟ ⎝dξ₁       ⎠│ξ₁=──────────\n",
       "⎝               (cos(x) + 1) ⎠                 cos(x) + 1"
      ]
     },
     "execution_count": 29,
     "metadata": {},
     "output_type": "execute_result"
    }
   ],
   "source": [
    "f=Function('F')(cos(x)/(cos(x)+1))\n",
    "#displaying the first derivative\n",
    "f.diff()"
   ]
  },
  {
   "cell_type": "code",
   "execution_count": 30,
   "metadata": {},
   "outputs": [
    {
     "data": {
      "text/latex": [
       "$$\\left(- \\frac{\\sin{\\left (x \\right )}}{\\cos{\\left (x \\right )} + 1} + \\frac{\\sin{\\left (x \\right )} \\cos{\\left (x \\right )}}{\\left(\\cos{\\left (x \\right )} + 1\\right)^{2}}\\right)^{2} \\left. \\frac{d^{2}}{d \\xi_{1}^{2}}  F{\\left (\\xi_{1} \\right )} \\right|_{\\substack{ \\xi_{1}=\\frac{\\cos{\\left (x \\right )}}{\\cos{\\left (x \\right )} + 1} }} + \\left(- \\frac{\\cos{\\left (x \\right )}}{\\cos{\\left (x \\right )} + 1} - \\frac{2 \\sin^{2}{\\left (x \\right )}}{\\left(\\cos{\\left (x \\right )} + 1\\right)^{2}} + \\frac{\\cos^{2}{\\left (x \\right )}}{\\left(\\cos{\\left (x \\right )} + 1\\right)^{2}} + \\frac{2 \\sin^{2}{\\left (x \\right )} \\cos{\\left (x \\right )}}{\\left(\\cos{\\left (x \\right )} + 1\\right)^{3}}\\right) \\left. \\frac{d}{d \\xi_{1}} F{\\left (\\xi_{1} \\right )} \\right|_{\\substack{ \\xi_{1}=\\frac{\\cos{\\left (x \\right )}}{\\cos{\\left (x \\right )} + 1} }}$$"
      ],
      "text/plain": [
       "                              2 ⎛  2        ⎞│                ⎛               \n",
       "⎛    sin(x)     sin(x)⋅cos(x)⎞  ⎜ d         ⎟│                ⎜    cos(x)     \n",
       "⎜- ────────── + ─────────────⎟ ⋅⎜────(F(ξ₁))⎟│              + ⎜- ────────── - \n",
       "⎜  cos(x) + 1               2⎟  ⎜   2       ⎟│     cos(x)     ⎜  cos(x) + 1   \n",
       "⎝               (cos(x) + 1) ⎠  ⎝dξ₁        ⎠│ξ₁=──────────   ⎝               \n",
       "                                                 cos(x) + 1                   \n",
       "\n",
       "       2              2              2          ⎞                           \n",
       "  2⋅sin (x)        cos (x)      2⋅sin (x)⋅cos(x)⎟ ⎛ d        ⎞│             \n",
       "───────────── + ───────────── + ────────────────⎟⋅⎜───(F(ξ₁))⎟│     cos(x)  \n",
       "            2               2                3  ⎟ ⎝dξ₁       ⎠│ξ₁=──────────\n",
       "(cos(x) + 1)    (cos(x) + 1)     (cos(x) + 1)   ⎠                 cos(x) + 1\n",
       "                                                                            "
      ]
     },
     "execution_count": 30,
     "metadata": {},
     "output_type": "execute_result"
    }
   ],
   "source": [
    "#displaying the second derivative\n",
    "diff(f.diff())"
   ]
  },
  {
   "cell_type": "code",
   "execution_count": 34,
   "metadata": {},
   "outputs": [
    {
     "data": {
      "text/latex": [
       "$$\\left(\\frac{2}{\\left(x - 1\\right)^{2}} - \\frac{2 x^{2} + 2}{x \\left(x - 1\\right)^{3}} - \\frac{x^{2} + 1}{x^{2} \\left(x - 1\\right)^{2}}\\right) \\left. \\frac{d}{d \\xi_{1}} F{\\left (\\xi_{1} \\right )} \\right|_{\\substack{ \\xi_{1}=\\frac{x^{2} + 1}{x \\left(x - 1\\right)^{2}} }}$$"
      ],
      "text/plain": [
       "⎛             ⎛ 2    ⎞       2      ⎞                           \n",
       "⎜   2       2⋅⎝x  + 1⎠      x  + 1  ⎟ ⎛ d        ⎞│      2      \n",
       "⎜──────── - ────────── - ───────────⎟⋅⎜───(F(ξ₁))⎟│     x  + 1  \n",
       "⎜       2            3    2        2⎟ ⎝dξ₁       ⎠│ξ₁=──────────\n",
       "⎝(x - 1)    x⋅(x - 1)    x ⋅(x - 1) ⎠                          2\n",
       "                                                      x⋅(x - 1) "
      ]
     },
     "execution_count": 34,
     "metadata": {},
     "output_type": "execute_result"
    }
   ],
   "source": [
    "f=Function('F')((x**2+1)/(x*(x-1)**2))\n",
    "#displaying the first derivative\n",
    "f.diff()"
   ]
  },
  {
   "cell_type": "code",
   "execution_count": 35,
   "metadata": {},
   "outputs": [
    {
     "data": {
      "text/latex": [
       "$$\\left(\\frac{2}{\\left(x - 1\\right)^{2}} - \\frac{2 x^{2} + 2}{x \\left(x - 1\\right)^{3}} - \\frac{x^{2} + 1}{x^{2} \\left(x - 1\\right)^{2}}\\right)^{2} \\left. \\frac{d^{2}}{d \\xi_{1}^{2}}  F{\\left (\\xi_{1} \\right )} \\right|_{\\substack{ \\xi_{1}=\\frac{x^{2} + 1}{x \\left(x - 1\\right)^{2}} }} + \\left(- \\frac{8}{\\left(x - 1\\right)^{3}} - \\frac{2}{x \\left(x - 1\\right)^{2}} + \\frac{6 x^{2} + 6}{x \\left(x - 1\\right)^{4}} + \\frac{4 x^{2} + 4}{x^{2} \\left(x - 1\\right)^{3}} + \\frac{2 x^{2} + 2}{x^{3} \\left(x - 1\\right)^{2}}\\right) \\left. \\frac{d}{d \\xi_{1}} F{\\left (\\xi_{1} \\right )} \\right|_{\\substack{ \\xi_{1}=\\frac{x^{2} + 1}{x \\left(x - 1\\right)^{2}} }}$$"
      ],
      "text/plain": [
       "                                     2                                        \n",
       "⎛             ⎛ 2    ⎞       2      ⎞  ⎛  2        ⎞│                ⎛        \n",
       "⎜   2       2⋅⎝x  + 1⎠      x  + 1  ⎟  ⎜ d         ⎟│                ⎜     8  \n",
       "⎜──────── - ────────── - ───────────⎟ ⋅⎜────(F(ξ₁))⎟│      2       + ⎜- ──────\n",
       "⎜       2            3    2        2⎟  ⎜   2       ⎟│     x  + 1     ⎜        \n",
       "⎝(x - 1)    x⋅(x - 1)    x ⋅(x - 1) ⎠  ⎝dξ₁        ⎠│ξ₁=──────────   ⎝  (x - 1\n",
       "                                                                 2            \n",
       "                                                        x⋅(x - 1)             \n",
       "\n",
       "                                                                              \n",
       "                    ⎛ 2    ⎞      ⎛ 2    ⎞      ⎛ 2    ⎞⎞                     \n",
       "         2        6⋅⎝x  + 1⎠    4⋅⎝x  + 1⎠    2⋅⎝x  + 1⎠⎟ ⎛ d        ⎞│      2\n",
       "── - ────────── + ────────── + ─────────── + ───────────⎟⋅⎜───(F(ξ₁))⎟│     x \n",
       " 3            2            4    2        3    3        2⎟ ⎝dξ₁       ⎠│ξ₁=────\n",
       ")    x⋅(x - 1)    x⋅(x - 1)    x ⋅(x - 1)    x ⋅(x - 1) ⎠                     \n",
       "                                                                          x⋅(x\n",
       "                                                                              \n",
       "\n",
       "      \n",
       "      \n",
       "      \n",
       " + 1  \n",
       "──────\n",
       "     2\n",
       " - 1) \n",
       "      "
      ]
     },
     "execution_count": 35,
     "metadata": {},
     "output_type": "execute_result"
    }
   ],
   "source": [
    "#displaying the second derivative\n",
    "diff(f.diff())"
   ]
  },
  {
   "cell_type": "markdown",
   "metadata": {},
   "source": [
    "Exercise 1.3"
   ]
  },
  {
   "cell_type": "code",
   "execution_count": 41,
   "metadata": {},
   "outputs": [
    {
     "data": {
      "image/png": "[encoded data removed]",
      "text/latex": [
       "$$4 \\cos{\\left (2 x \\right )}$$"
      ],
      "text/plain": [
       "4⋅cos(2⋅x)"
      ]
     },
     "execution_count": 41,
     "metadata": {},
     "output_type": "execute_result"
    }
   ],
   "source": [
    "f=2*sin(2*x)\n",
    "#displaying the first derivative\n",
    "diff(f,x)"
   ]
  },
  {
   "cell_type": "code",
   "execution_count": 42,
   "metadata": {},
   "outputs": [
    {
     "data": {
      "image/png": "[encoded data removed]",
      "text/latex": [
       "$$2 \\sin{\\left (2 x \\right )}$$"
      ],
      "text/plain": [
       "2⋅sin(2⋅x)"
      ]
     },
     "execution_count": 42,
     "metadata": {},
     "output_type": "execute_result"
    }
   ],
   "source": [
    "#now integrating the first derivative to get back the original function\n",
    "integrate(diff(f,x)).simplify()"
   ]
  },
  {
   "cell_type": "code",
   "execution_count": 47,
   "metadata": {},
   "outputs": [
    {
     "data": {
      "image/png": "[encoded data removed]",
      "text/latex": [
       "$$- \\frac{\\sin{\\left (x \\right )}}{\\cos{\\left (x \\right )} + 1} + \\frac{\\sin{\\left (x \\right )} \\cos{\\left (x \\right )}}{\\left(\\cos{\\left (x \\right )} + 1\\right)^{2}}$$"
      ],
      "text/plain": [
       "    sin(x)     sin(x)⋅cos(x)\n",
       "- ────────── + ─────────────\n",
       "  cos(x) + 1               2\n",
       "               (cos(x) + 1) "
      ]
     },
     "execution_count": 47,
     "metadata": {},
     "output_type": "execute_result"
    }
   ],
   "source": [
    "f=(cos(x)/(cos(x)+1))\n",
    "#displaying the first derivative\n",
    "diff(f,x)"
   ]
  },
  {
   "cell_type": "code",
   "execution_count": 53,
   "metadata": {},
   "outputs": [
    {
     "data": {
      "image/png": "[encoded data removed]",
      "text/latex": [
       "$$- \\frac{1}{\\cos{\\left (x \\right )} + 1}$$"
      ],
      "text/plain": [
       "   -1     \n",
       "──────────\n",
       "cos(x) + 1"
      ]
     },
     "execution_count": 53,
     "metadata": {},
     "output_type": "execute_result"
    }
   ],
   "source": [
    "#now integrating the first derivative to get back the original function\n",
    "integrate(diff(f,x)).simplify()"
   ]
  },
  {
   "cell_type": "code",
   "execution_count": 56,
   "metadata": {},
   "outputs": [
    {
     "data": {
      "image/png": "[encoded data removed]",
      "text/latex": [
       "$$\\frac{2}{\\left(x - 1\\right)^{2}} - \\frac{2 x^{2} + 2}{x \\left(x - 1\\right)^{3}} - \\frac{x^{2} + 1}{x^{2} \\left(x - 1\\right)^{2}}$$"
      ],
      "text/plain": [
       "             ⎛ 2    ⎞       2      \n",
       "   2       2⋅⎝x  + 1⎠      x  + 1  \n",
       "──────── - ────────── - ───────────\n",
       "       2            3    2        2\n",
       "(x - 1)    x⋅(x - 1)    x ⋅(x - 1) "
      ]
     },
     "execution_count": 56,
     "metadata": {},
     "output_type": "execute_result"
    }
   ],
   "source": [
    "f=((x**2+1)/(x*(x-1)**2))\n",
    "#displaying the first derivative\n",
    "diff(f,x)"
   ]
  },
  {
   "cell_type": "code",
   "execution_count": 63,
   "metadata": {},
   "outputs": [
    {
     "data": {
      "image/png": "[encoded data removed]",
      "text/latex": [
       "$$\\frac{x^{2} + 1}{x \\left(x - 1\\right)^{2}}$$"
      ],
      "text/plain": [
       "   2      \n",
       "  x  + 1  \n",
       "──────────\n",
       "         2\n",
       "x⋅(x - 1) "
      ]
     },
     "execution_count": 63,
     "metadata": {},
     "output_type": "execute_result"
    }
   ],
   "source": [
    "#now integrating the first derivative to get back the original function\n",
    "c=integrate(diff(f,x)).simplify()\n",
    "c.factor()"
   ]
  },
  {
   "cell_type": "markdown",
   "metadata": {},
   "source": [
    "Exercise 1.4"
   ]
  },
  {
   "cell_type": "code",
   "execution_count": 77,
   "metadata": {},
   "outputs": [
    {
     "data": {
      "image/png": "[encoded data removed]",
      "text/plain": [
       "<matplotlib.figure.Figure at 0x9a1b358>"
      ]
     },
     "metadata": {},
     "output_type": "display_data"
    }
   ],
   "source": [
    "l=[sin(n*x) for n in range (1,4)]\n",
    "p=plot(l[0],l[1],l[2],(x,-1,1),legend=True,show=False)\n",
    "p[0].line_color='r'\n",
    "p[1].line_color='g'\n",
    "p[2].line_color='k'\n",
    "p.show()"
   ]
  },
  {
   "cell_type": "markdown",
   "metadata": {},
   "source": [
    "Exercise 3"
   ]
  },
  {
   "cell_type": "code",
   "execution_count": 82,
   "metadata": {},
   "outputs": [
    {
     "data": {
      "text/latex": [
       "$$\\left[\\begin{matrix}4 & 3 & 2 & 1\\\\-1 & 1 & -1 & 0\\\\0 & 3 & 0 & 2\\\\0 & 2 & 2 & 1\\end{matrix}\\right]$$"
      ],
      "text/plain": [
       "⎡4   3  2   1⎤\n",
       "⎢            ⎥\n",
       "⎢-1  1  -1  0⎥\n",
       "⎢            ⎥\n",
       "⎢0   3  0   2⎥\n",
       "⎢            ⎥\n",
       "⎣0   2  2   1⎦"
      ]
     },
     "execution_count": 82,
     "metadata": {},
     "output_type": "execute_result"
    }
   ],
   "source": [
    "#Exercise 3.1\n",
    "#solving using matrix method first\n",
    "x1,x2,x3,x4=symbols('x1,x2,x3,x4')\n",
    "A=Matrix([[4,3,2,1],[-1,1,-1,0],[0,3,0,2],[0,2,2,1]])\n",
    "A"
   ]
  },
  {
   "cell_type": "code",
   "execution_count": 85,
   "metadata": {},
   "outputs": [
    {
     "data": {
      "text/latex": [
       "$$\\left[\\begin{matrix}25\\\\7\\\\17\\\\20\\end{matrix}\\right]$$"
      ],
      "text/plain": [
       "⎡25⎤\n",
       "⎢  ⎥\n",
       "⎢7 ⎥\n",
       "⎢  ⎥\n",
       "⎢17⎥\n",
       "⎢  ⎥\n",
       "⎣20⎦"
      ]
     },
     "execution_count": 85,
     "metadata": {},
     "output_type": "execute_result"
    }
   ],
   "source": [
    "X=Matrix([[x1],[x2],[x3],[x4]])\n",
    "B=Matrix([[25],[7],[17],[20]])\n",
    "B"
   ]
  },
  {
   "cell_type": "code",
   "execution_count": 88,
   "metadata": {},
   "outputs": [
    {
     "data": {
      "text/latex": [
       "$$\\left[\\begin{matrix}- \\frac{13}{12}\\\\\\frac{28}{3}\\\\\\frac{41}{12}\\\\- \\frac{11}{2}\\end{matrix}\\right]$$"
      ],
      "text/plain": [
       "⎡-13  ⎤\n",
       "⎢──── ⎥\n",
       "⎢ 12  ⎥\n",
       "⎢     ⎥\n",
       "⎢28/3 ⎥\n",
       "⎢     ⎥\n",
       "⎢ 41  ⎥\n",
       "⎢ ──  ⎥\n",
       "⎢ 12  ⎥\n",
       "⎢     ⎥\n",
       "⎣-11/2⎦"
      ]
     },
     "execution_count": 88,
     "metadata": {},
     "output_type": "execute_result"
    }
   ],
   "source": [
    "X=A.inv()*B\n",
    "X"
   ]
  },
  {
   "cell_type": "code",
   "execution_count": 95,
   "metadata": {},
   "outputs": [
    {
     "data": {
      "image/png": "[encoded data removed]",
      "text/latex": [
       "$$\\left\\{\\left ( - \\frac{13}{12}, \\quad \\frac{28}{3}, \\quad \\frac{41}{12}, \\quad - \\frac{11}{2}\\right )\\right\\}$$"
      ],
      "text/plain": [
       "⎧⎛-13         41       ⎞⎫\n",
       "⎨⎜────, 28/3, ──, -11/2⎟⎬\n",
       "⎩⎝ 12         12       ⎠⎭"
      ]
     },
     "execution_count": 95,
     "metadata": {},
     "output_type": "execute_result"
    }
   ],
   "source": [
    "#using linear system equations\n",
    "eq1=Eq(4*x1+3*x2+2*x3+x4,25)\n",
    "eq2=Eq(-x3+x2-x1,7)\n",
    "eq3=Eq(2*x4+3*x2,17)\n",
    "eq4=Eq(x4+2*x2+2*x3,20)\n",
    "linsolve([eq1,eq2,eq3,eq4],(x1,x2,x3,x4))"
   ]
  },
  {
   "cell_type": "code",
   "execution_count": 96,
   "metadata": {},
   "outputs": [
    {
     "data": {
      "text/latex": [
       "$$\\left[\\begin{matrix}- \\frac{13}{12}\\\\\\frac{28}{3}\\\\\\frac{41}{12}\\\\- \\frac{11}{2}\\end{matrix}\\right]$$"
      ],
      "text/plain": [
       "⎡-13  ⎤\n",
       "⎢──── ⎥\n",
       "⎢ 12  ⎥\n",
       "⎢     ⎥\n",
       "⎢28/3 ⎥\n",
       "⎢     ⎥\n",
       "⎢ 41  ⎥\n",
       "⎢ ──  ⎥\n",
       "⎢ 12  ⎥\n",
       "⎢     ⎥\n",
       "⎣-11/2⎦"
      ]
     },
     "execution_count": 96,
     "metadata": {},
     "output_type": "execute_result"
    }
   ],
   "source": [
    "#solving using least square method\n",
    "(A.transpose()*A).inv()*A.transpose()*B"
   ]
  },
  {
   "cell_type": "markdown",
   "metadata": {},
   "source": [
    "Exercise 3.2"
   ]
  },
  {
   "cell_type": "code",
   "execution_count": 97,
   "metadata": {},
   "outputs": [
    {
     "data": {
      "text/latex": [
       "$$\\left[\\begin{matrix}1 & 4 & t\\\\t - 1 & 6 & t\\\\2 & 9 & t^{2}\\end{matrix}\\right]$$"
      ],
      "text/plain": [
       "⎡  1    4  t ⎤\n",
       "⎢            ⎥\n",
       "⎢t - 1  6  t ⎥\n",
       "⎢            ⎥\n",
       "⎢           2⎥\n",
       "⎣  2    9  t ⎦"
      ]
     },
     "execution_count": 97,
     "metadata": {},
     "output_type": "execute_result"
    }
   ],
   "source": [
    "t=symbols('t')\n",
    "A=Matrix([[1,4,t],[t-1,6,t],[2,9,t**2]])\n",
    "A"
   ]
  },
  {
   "cell_type": "code",
   "execution_count": 98,
   "metadata": {},
   "outputs": [
    {
     "data": {
      "image/png": "[encoded data removed]",
      "text/latex": [
       "$$- 4 t^{3} + 19 t^{2} - 22 t$$"
      ],
      "text/plain": [
       "     3       2       \n",
       "- 4⋅t  + 19⋅t  - 22⋅t"
      ]
     },
     "execution_count": 98,
     "metadata": {},
     "output_type": "execute_result"
    }
   ],
   "source": [
    "A.det()"
   ]
  },
  {
   "cell_type": "code",
   "execution_count": 100,
   "metadata": {},
   "outputs": [
    {
     "data": {
      "image/png": "[encoded data removed]",
      "text/latex": [
       "$$\\left [ 0, \\quad 2, \\quad \\frac{11}{4}\\right ]$$"
      ],
      "text/plain": [
       "[0, 2, 11/4]"
      ]
     },
     "execution_count": 100,
     "metadata": {},
     "output_type": "execute_result"
    }
   ],
   "source": [
    "solve(A.det(),t)"
   ]
  },
  {
   "cell_type": "markdown",
   "metadata": {},
   "source": [
    "Exercise 3.3"
   ]
  },
  {
   "cell_type": "code",
   "execution_count": 101,
   "metadata": {},
   "outputs": [
    {
     "data": {
      "text/latex": [
       "$$\\left[\\begin{matrix}1 & 2 & 3\\\\1 & 1 & 6\\\\1 & 2 & 5\\end{matrix}\\right]$$"
      ],
      "text/plain": [
       "⎡1  2  3⎤\n",
       "⎢       ⎥\n",
       "⎢1  1  6⎥\n",
       "⎢       ⎥\n",
       "⎣1  2  5⎦"
      ]
     },
     "execution_count": 101,
     "metadata": {},
     "output_type": "execute_result"
    }
   ],
   "source": [
    "A=Matrix([[1,2,3],[1,1,6],[1,2,5]])\n",
    "A"
   ]
  },
  {
   "cell_type": "code",
   "execution_count": 116,
   "metadata": {},
   "outputs": [
    {
     "data": {
      "image/png": "[encoded data removed]",
      "text/latex": [
       "$$\\left \\{ -1 : 1, \\quad - \\sqrt{14} + 4 : 1, \\quad \\sqrt{14} + 4 : 1\\right \\}$$"
      ],
      "text/plain": [
       "{-1: 1, -√14 + 4: 1, √14 + 4: 1}"
      ]
     },
     "execution_count": 116,
     "metadata": {},
     "output_type": "execute_result"
    }
   ],
   "source": [
    "c=A.eigenvals()\n",
    "c"
   ]
  },
  {
   "cell_type": "code",
   "execution_count": 169,
   "metadata": {},
   "outputs": [
    {
     "data": {
      "image/png": "[encoded data removed]",
      "text/latex": [
       "$$- \\sqrt{14} + 10.7416573867739$$"
      ],
      "text/plain": [
       "-√14 + 10.7416573867739"
      ]
     },
     "execution_count": 169,
     "metadata": {},
     "output_type": "execute_result"
    }
   ],
   "source": [
    "-1+(4-sqrt(14))+(4+sqrt(14)).evalf()\n",
    "#the sum of the eigen values is almost equalt to the trace of the matrix"
   ]
  },
  {
   "cell_type": "code",
   "execution_count": 172,
   "metadata": {},
   "outputs": [
    {
     "data": {
      "image/png": "[encoded data removed]",
      "text/latex": [
       "$$-30.9666295470958 + 7.74165738677394 \\sqrt{14}$$"
      ],
      "text/plain": [
       "-30.9666295470958 + 7.74165738677394⋅√14"
      ]
     },
     "execution_count": 172,
     "metadata": {},
     "output_type": "execute_result"
    }
   ],
   "source": [
    "((-1)*(4-sqrt(14))*(4+sqrt(14)).evalf()).simplify()\n",
    "#the product of the eigen values is almost equalt to the determinent of the matrix"
   ]
  },
  {
   "cell_type": "code",
   "execution_count": 105,
   "metadata": {},
   "outputs": [
    {
     "data": {
      "text/latex": [
       "$$\\left [ \\left ( -1, \\quad 1, \\quad \\left [ \\left[\\begin{matrix}3\\\\- \\frac{9}{2}\\\\1\\end{matrix}\\right]\\right ]\\right ), \\quad \\left ( - \\sqrt{14} + 4, \\quad 1, \\quad \\left [ \\left[\\begin{matrix}- \\frac{3}{-3 + \\sqrt{14}} + \\frac{- \\frac{6}{-3 + \\sqrt{14}} + 12}{\\left(- \\frac{21}{5} + \\frac{3 \\sqrt{14}}{5}\\right) \\left(-3 + \\sqrt{14}\\right)}\\\\- \\frac{- \\frac{3}{-3 + \\sqrt{14}} + 6}{- \\frac{21}{5} + \\frac{3 \\sqrt{14}}{5}}\\\\1\\end{matrix}\\right]\\right ]\\right ), \\quad \\left ( \\sqrt{14} + 4, \\quad 1, \\quad \\left [ \\left[\\begin{matrix}\\frac{- \\frac{6}{- \\sqrt{14} - 3} + 12}{\\left(- \\frac{21}{5} - \\frac{3 \\sqrt{14}}{5}\\right) \\left(- \\sqrt{14} - 3\\right)} - \\frac{3}{- \\sqrt{14} - 3}\\\\- \\frac{- \\frac{3}{- \\sqrt{14} - 3} + 6}{- \\frac{21}{5} - \\frac{3 \\sqrt{14}}{5}}\\\\1\\end{matrix}\\right]\\right ]\\right )\\right ]$$"
      ],
      "text/plain": [
       "⎡                   ⎛             ⎡⎡                   ⎛     3        ⎞   ⎤⎤⎞ \n",
       "⎢                   ⎜             ⎢⎢                 2⋅⎜- ──────── + 6⎟   ⎥⎥⎟ \n",
       "⎢                   ⎜             ⎢⎢     3             ⎝  -3 + √14    ⎠   ⎥⎥⎟ \n",
       "⎢⎛-1, 1, ⎡⎡ 3  ⎤⎤⎞, ⎜-√14 + 4, 1, ⎢⎢- ──────── + ─────────────────────────⎥⎥⎟,\n",
       "⎢⎜       ⎢⎢    ⎥⎥⎟  ⎜             ⎢⎢  -3 + √14   ⎛  21   3⋅√14⎞           ⎥⎥⎟ \n",
       "⎢⎜       ⎢⎢-9/2⎥⎥⎟  ⎜             ⎢⎢             ⎜- ── + ─────⎟⋅(-3 + √14)⎥⎥⎟ \n",
       "⎢⎜       ⎢⎢    ⎥⎥⎟  ⎜             ⎢⎢             ⎝  5      5  ⎠           ⎥⎥⎟ \n",
       "⎢⎝       ⎣⎣ 1  ⎦⎦⎠  ⎜             ⎢⎢                                      ⎥⎥⎟ \n",
       "⎢                   ⎜             ⎢⎢           ⎛     3        ⎞           ⎥⎥⎟ \n",
       "⎢                   ⎜             ⎢⎢          -⎜- ──────── + 6⎟           ⎥⎥⎟ \n",
       "⎢                   ⎜             ⎢⎢           ⎝  -3 + √14    ⎠           ⎥⎥⎟ \n",
       "⎢                   ⎜             ⎢⎢          ──────────────────          ⎥⎥⎟ \n",
       "⎢                   ⎜             ⎢⎢               21   3⋅√14             ⎥⎥⎟ \n",
       "⎢                   ⎜             ⎢⎢             - ── + ─────             ⎥⎥⎟ \n",
       "⎢                   ⎜             ⎢⎢               5      5               ⎥⎥⎟ \n",
       "⎢                   ⎜             ⎢⎢                                      ⎥⎥⎟ \n",
       "⎣                   ⎝             ⎣⎣                  1                   ⎦⎦⎠ \n",
       "\n",
       " ⎛            ⎡⎡      ⎛     3        ⎞              ⎤⎤⎞⎤\n",
       " ⎜            ⎢⎢    2⋅⎜- ──────── + 6⎟              ⎥⎥⎟⎥\n",
       " ⎜            ⎢⎢      ⎝  -√14 - 3    ⎠         3    ⎥⎥⎟⎥\n",
       " ⎜√14 + 4, 1, ⎢⎢───────────────────────── - ────────⎥⎥⎟⎥\n",
       " ⎜            ⎢⎢⎛  21   3⋅√14⎞              -√14 - 3⎥⎥⎟⎥\n",
       " ⎜            ⎢⎢⎜- ── - ─────⎟⋅(-√14 - 3)           ⎥⎥⎟⎥\n",
       " ⎜            ⎢⎢⎝  5      5  ⎠                      ⎥⎥⎟⎥\n",
       " ⎜            ⎢⎢                                    ⎥⎥⎟⎥\n",
       " ⎜            ⎢⎢          ⎛     3        ⎞          ⎥⎥⎟⎥\n",
       " ⎜            ⎢⎢         -⎜- ──────── + 6⎟          ⎥⎥⎟⎥\n",
       " ⎜            ⎢⎢          ⎝  -√14 - 3    ⎠          ⎥⎥⎟⎥\n",
       " ⎜            ⎢⎢         ──────────────────         ⎥⎥⎟⎥\n",
       " ⎜            ⎢⎢              21   3⋅√14            ⎥⎥⎟⎥\n",
       " ⎜            ⎢⎢            - ── - ─────            ⎥⎥⎟⎥\n",
       " ⎜            ⎢⎢              5      5              ⎥⎥⎟⎥\n",
       " ⎜            ⎢⎢                                    ⎥⎥⎟⎥\n",
       " ⎝            ⎣⎣                 1                  ⎦⎦⎠⎦"
      ]
     },
     "execution_count": 105,
     "metadata": {},
     "output_type": "execute_result"
    }
   ],
   "source": [
    "A.eigenvects()"
   ]
  },
  {
   "cell_type": "code",
   "execution_count": 112,
   "metadata": {},
   "outputs": [
    {
     "data": {
      "image/png": "[encoded data removed]",
      "text/latex": [
       "$$7$$"
      ],
      "text/plain": [
       "7"
      ]
     },
     "execution_count": 112,
     "metadata": {},
     "output_type": "execute_result"
    }
   ],
   "source": [
    "A.trace()"
   ]
  },
  {
   "cell_type": "code",
   "execution_count": 113,
   "metadata": {},
   "outputs": [
    {
     "data": {
      "image/png": "[encoded data removed]",
      "text/latex": [
       "$$-2$$"
      ],
      "text/plain": [
       "-2"
      ]
     },
     "execution_count": 113,
     "metadata": {},
     "output_type": "execute_result"
    }
   ],
   "source": [
    "A.det()"
   ]
  },
  {
   "cell_type": "code",
   "execution_count": 114,
   "metadata": {},
   "outputs": [
    {
     "data": {
      "image/png": "[encoded data removed]",
      "text/latex": [
       "$$3$$"
      ],
      "text/plain": [
       "3"
      ]
     },
     "execution_count": 114,
     "metadata": {},
     "output_type": "execute_result"
    }
   ],
   "source": [
    "A.rank()"
   ]
  },
  {
   "cell_type": "markdown",
   "metadata": {},
   "source": [
    "Exercise 4"
   ]
  },
  {
   "cell_type": "code",
   "execution_count": 126,
   "metadata": {},
   "outputs": [],
   "source": [
    "#Fourier series\n",
    "t,p=symbols('t,p')\n",
    "n=symbols('n',positive=True)\n",
    "def f(t):\n",
    "    return t**2"
   ]
  },
  {
   "cell_type": "code",
   "execution_count": 130,
   "metadata": {},
   "outputs": [
    {
     "data": {
      "image/png": "[encoded data removed]",
      "text/latex": [
       "$$\\left ( \\frac{p^{2}}{2 \\pi n} \\left(\\sin{\\left (\\pi n \\right )} + \\frac{2}{\\pi n} \\cos{\\left (\\pi n \\right )} - \\frac{2}{\\pi^{2} n^{2}} \\sin{\\left (\\pi n \\right )}\\right), \\quad 0\\right )$$"
      ],
      "text/plain": [
       "⎛ 2 ⎛           2⋅cos(π⋅n)   2⋅sin(π⋅n)⎞   ⎞\n",
       "⎜p ⋅⎜sin(π⋅n) + ────────── - ──────────⎟   ⎟\n",
       "⎜   ⎜              π⋅n          2  2   ⎟   ⎟\n",
       "⎜   ⎝                          π ⋅n    ⎠   ⎟\n",
       "⎜───────────────────────────────────────, 0⎟\n",
       "⎝                 2⋅π⋅n                    ⎠"
      ]
     },
     "execution_count": 130,
     "metadata": {},
     "output_type": "execute_result"
    }
   ],
   "source": [
    "\n",
    "a_n=(2/p)*(integrate(f(t)*cos(2*pi*n*t/p),(t,-p/2,p/2)))\n",
    "b_n=(2/p)*(integrate(f(t)*sin(2*pi*n*t/p),(t,-p/2,p/2)))\n",
    "a_n.trigsimp(),b_n.trigsimp()\n",
    "#since bn is zero, this function is even"
   ]
  },
  {
   "cell_type": "code",
   "execution_count": 129,
   "metadata": {},
   "outputs": [
    {
     "data": {
      "image/png": "[encoded data removed]",
      "text/latex": [
       "$$\\left [ - \\frac{16}{\\pi^{2}}, \\quad \\frac{4}{\\pi^{2}}, \\quad - \\frac{16}{9 \\pi^{2}}, \\quad \\frac{1}{\\pi^{2}}, \\quad - \\frac{16}{25 \\pi^{2}}, \\quad \\frac{4}{9 \\pi^{2}}\\right ]$$"
      ],
      "text/plain": [
       "⎡-16   4   -16   1    -16    4  ⎤\n",
       "⎢────, ──, ────, ──, ─────, ────⎥\n",
       "⎢  2    2     2   2      2     2⎥\n",
       "⎣ π    π   9⋅π   π   25⋅π   9⋅π ⎦"
      ]
     },
     "execution_count": 129,
     "metadata": {},
     "output_type": "execute_result"
    }
   ],
   "source": [
    "[a_n.subs({p:4,n:i}) for i in range(1,7)]"
   ]
  },
  {
   "cell_type": "code",
   "execution_count": 131,
   "metadata": {},
   "outputs": [
    {
     "data": {
      "image/png": "[encoded data removed]",
      "text/plain": [
       "<matplotlib.figure.Figure at 0x9a1b358>"
      ]
     },
     "metadata": {},
     "output_type": "display_data"
    },
    {
     "data": {
      "text/plain": [
       "<sympy.plotting.plot.Plot at 0xab99358>"
      ]
     },
     "execution_count": 131,
     "metadata": {},
     "output_type": "execute_result"
    }
   ],
   "source": [
    "plot(f(t),(t,-2,2))"
   ]
  },
  {
   "cell_type": "markdown",
   "metadata": {},
   "source": [
    "Exercise 2"
   ]
  },
  {
   "cell_type": "code",
   "execution_count": 132,
   "metadata": {
    "collapsed": true
   },
   "outputs": [],
   "source": [
    "Q,A,g,y,E,V=symbols('Q,A,g,y,E,V=')"
   ]
  },
  {
   "cell_type": "code",
   "execution_count": 133,
   "metadata": {
    "collapsed": true
   },
   "outputs": [],
   "source": [
    "def f(Q,A,g,y):\n",
    "    return ((Q**2)/(A**2*2*g))+y"
   ]
  },
  {
   "cell_type": "code",
   "execution_count": 142,
   "metadata": {},
   "outputs": [
    {
     "data": {
      "image/png": "[encoded data removed]",
      "text/latex": [
       "$$2.47963812436$$"
      ],
      "text/plain": [
       "2.47963812436"
      ]
     },
     "execution_count": 142,
     "metadata": {},
     "output_type": "execute_result"
    }
   ],
   "source": [
    "#Calculating energy\n",
    "E=f(30,10*2.4,9.81,2.4)\n",
    "E"
   ]
  },
  {
   "cell_type": "code",
   "execution_count": 158,
   "metadata": {},
   "outputs": [
    {
     "data": {
      "image/png": "[encoded data removed]",
      "text/latex": [
       "$$2.4$$"
      ],
      "text/plain": [
       "2.4"
      ]
     },
     "execution_count": 158,
     "metadata": {},
     "output_type": "execute_result"
    }
   ],
   "source": [
    "#find the y\n",
    "#E-((Q**2)/(A**2*2*g))\n",
    "y=2.47963812436-((30**2)/(24**2*2*9.81))\n",
    "y#same value"
   ]
  },
  {
   "cell_type": "code",
   "execution_count": 161,
   "metadata": {},
   "outputs": [
    {
     "data": {
      "image/png": "[encoded data removed]",
      "text/latex": [
       "$$- \\frac{Q^{2}}{b^{2} g y^{3}} + 1$$"
      ],
      "text/plain": [
       "      2      \n",
       "     Q       \n",
       "- ─────── + 1\n",
       "   2    3    \n",
       "  b ⋅g⋅y     "
      ]
     },
     "execution_count": 161,
     "metadata": {},
     "output_type": "execute_result"
    }
   ],
   "source": [
    "y,b=symbols('y,b')\n",
    "f(Q,b*y,g,y)\n",
    "#differniating the function w.r.t y\n",
    "x=diff(f(Q,b*y,g,y),y)\n",
    "x"
   ]
  },
  {
   "cell_type": "code",
   "execution_count": 162,
   "metadata": {},
   "outputs": [
    {
     "data": {
      "image/png": "[encoded data removed]",
      "text/latex": [
       "$$0.933634896364254$$"
      ],
      "text/plain": [
       "0.933634896364254"
      ]
     },
     "execution_count": 162,
     "metadata": {},
     "output_type": "execute_result"
    }
   ],
   "source": [
    "x.subs({Q:30,b:10,g:9.81,y:2.4})"
   ]
  },
  {
   "cell_type": "code",
   "execution_count": null,
   "metadata": {
    "collapsed": true
   },
   "outputs": [],
   "source": []
  }
 ],
 "metadata": {
  "kernelspec": {
   "display_name": "Python 2",
   "language": "python",
   "name": "python2"
  },
  "language_info": {
   "codemirror_mode": {
    "name": "ipython",
    "version": 2
   },
   "file_extension": ".py",
   "mimetype": "text/x-python",
   "name": "python",
   "nbconvert_exporter": "python",
   "pygments_lexer": "ipython2",
   "version": "2.7.13"
  }
 },
 "nbformat": 4,
 "nbformat_minor": 2
}
