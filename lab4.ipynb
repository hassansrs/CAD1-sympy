{
 "cells": [
  {
   "cell_type": "markdown",
   "metadata": {},
   "source": [
    "# Vectors, Matrices, Linear Algebra"
   ]
  },
  {
   "cell_type": "code",
   "execution_count": 1,
   "metadata": {
    "collapsed": true
   },
   "outputs": [],
   "source": [
    "from sympy.interactive.printing import init_printing\n",
    "from sympy import *\n",
    "import numpy as np \n",
    "init_printing(use_unicode=True)\n"
   ]
  },
  {
   "cell_type": "markdown",
   "metadata": {},
   "source": [
    "## Objectives:\n",
    "* Manipulate vectors and matrices\n",
    "* Solve some linear algebra problems "
   ]
  },
  {
   "cell_type": "markdown",
   "metadata": {},
   "source": [
    "## 1.1 Vectors"
   ]
  },
  {
   "cell_type": "code",
   "execution_count": 2,
   "metadata": {},
   "outputs": [
    {
     "name": "stdout",
     "output_type": "stream",
     "text": [
      "[0 4 6]\n"
     ]
    }
   ],
   "source": [
    "u = np.array([-1, 2, 3])\n",
    "v = np.array([1, 2 , 3])\n",
    "print(u+v)"
   ]
  },
  {
   "cell_type": "code",
   "execution_count": 3,
   "metadata": {},
   "outputs": [
    {
     "name": "stdout",
     "output_type": "stream",
     "text": [
      "[-2  0  0]\n"
     ]
    }
   ],
   "source": [
    "print(u-v)"
   ]
  },
  {
   "cell_type": "markdown",
   "metadata": {},
   "source": [
    "* Element wise product between two vectors"
   ]
  },
  {
   "cell_type": "code",
   "execution_count": 4,
   "metadata": {},
   "outputs": [
    {
     "data": {
      "text/plain": [
       "array([-1,  4,  9])"
      ]
     },
     "execution_count": 4,
     "metadata": {},
     "output_type": "execute_result"
    }
   ],
   "source": [
    "# elements wise product \n",
    "u*v"
   ]
  },
  {
   "cell_type": "markdown",
   "metadata": {},
   "source": [
    "* dot product"
   ]
  },
  {
   "cell_type": "code",
   "execution_count": 5,
   "metadata": {},
   "outputs": [
    {
     "data": {
<<<<<<< HEAD
=======
      "image/png": "iVBORw0KGgoAAAANSUhEUgAAABoAAAASCAYAAABFGc6jAAAABHNCSVQICAgIfAhkiAAAAQ1JREFU\nOI3t1L8rhVEcx/EX+QuQ/AM2f8RlMSnFzMBgkAxKKWVjv7sMbMomNsWoKOku0s1gMvgxGNA1PN+7\ncJ8fJ90sPnV6Tud8Pud9fjzn8EeaQR1neEELezneASzgELd4wzPOMY/eItBVDP6KRgloMfofsI8t\n7OAp2g/Qkwcaw0gYaiWgcUx2mPkw7iM7XbSqtspARVqPbL3dULiPv9B7fD+6CerDbNSPuwnaxiiO\ncFIlUJN+RsuRaaC/aigVtBT+G9mfV1kpoJXwXmMoBZICWgvfJQZTIVVBG+G5UHIm35+IqShk+zyB\nO9nbB49YjfocdvEpu5jPHcZvhueHNmOGeaWZ4G3hNG+F/6qsL7zHU0zNVaiLAAAAAElFTkSuQmCC\n",
      "text/latex": [
       "$$12$$"
      ],
>>>>>>> lab5tobedone
      "text/plain": [
       "12"
      ]
     },
     "execution_count": 5,
     "metadata": {},
     "output_type": "execute_result"
    }
   ],
   "source": [
    "# dot products\n",
    "np.dot(u,v)"
   ]
  },
  {
   "cell_type": "markdown",
   "metadata": {},
   "source": [
    "* cross product"
   ]
  },
  {
   "cell_type": "code",
   "execution_count": 6,
   "metadata": {},
   "outputs": [
    {
     "data": {
      "text/plain": [
       "array([ 0,  6, -4])"
      ]
     },
     "execution_count": 6,
     "metadata": {},
     "output_type": "execute_result"
    }
   ],
   "source": [
    "np.cross(u, v)"
   ]
  },
  {
   "cell_type": "markdown",
   "metadata": {},
   "source": [
    "## 1.2 Matrices"
   ]
  },
  {
   "cell_type": "code",
   "execution_count": 7,
   "metadata": {},
   "outputs": [
    {
     "data": {
<<<<<<< HEAD
      "image/png": "iVBORw0KGgoAAAANSUhEUgAAADUAAAAyBAMAAAAOzY77AAAAMFBMVEX///8AAAAAAAAAAAAAAAAA\nAAAAAAAAAAAAAAAAAAAAAAAAAAAAAAAAAAAAAAAAAAAv3aB7AAAAD3RSTlMA74lUMhCrmXbNZiK7\nRN38cqFhAAAACXBIWXMAAA7EAAAOxAGVKw4bAAABPElEQVQ4Ee3Uv0vEMBQH8O/FK1TjtSf+2PT0\nFjdBEBzvwHPv5KqL52a7aNf6F+jkel3FRfwD5MBV0c1V/AcED11EY4QmfQ+amx3M0uZ9eHlpkgYt\n9YaKJpRqYra3XUHweltNzFXJb6xeaTK965a2HtHsHYgvY95BzGwfmDEGnDJbAuKurcdtELlN136N\nHHlAQ6+H+QY+JhDsuS3Vwzry/MRtm5BXjrx6At9lN+3VQ1vvuHWe6wqmDZT6tmaC7GnmyYJF599w\n3b7lK6N3otgjmaCTMwyGxvwRwmdmJ9Yai9g9oyYvrOkwH1NMEvNeaBouicm1I2peRgxYeSQowKw2\nT2yDmD6M06PSvGVi4TuziX4/XsiKdakNEXyWefpNRwqbytHJmIXW8JTeMxIPH7n9H5gUnT92Psfd\nkWPu1h85h1EamwQVaAAAAABJRU5ErkJggg==\n",
=======
>>>>>>> lab5tobedone
      "text/latex": [
       "$$\\left[\\begin{matrix}1 & 2\\\\3 & 4\\end{matrix}\\right]$$"
      ],
      "text/plain": [
       "⎡1  2⎤\n",
       "⎢    ⎥\n",
       "⎣3  4⎦"
      ]
     },
     "execution_count": 7,
     "metadata": {},
     "output_type": "execute_result"
    }
   ],
   "source": [
    "M = Matrix([[1,2],[3,4]])\n",
    "M"
   ]
  },
  {
   "cell_type": "code",
   "execution_count": 8,
   "metadata": {},
   "outputs": [
    {
     "data": {
<<<<<<< HEAD
      "image/png": "iVBORw0KGgoAAAANSUhEUgAAAH4AAAAyBAMAAABol3KsAAAAMFBMVEX///8AAAAAAAAAAAAAAAAA\nAAAAAAAAAAAAAAAAAAAAAAAAAAAAAAAAAAAAAAAAAAAv3aB7AAAAD3RSTlMA74lUMhCZZs3dIrur\nRHbLQ9+lAAAACXBIWXMAAA7EAAAOxAGVKw4bAAAChklEQVRIDe2Xz2sTQRTHvzbd3SRNthUVUQ8N\nRaqgaOrBk9BVaq+NRQpCsYto6KEH2z+gBkU8KK3gTQ+uF8VTe/FUDyuoRSlt/wP9A6Raf/9e385s\n3DebZMOmnqR72H3fN+8zb+bNMJOg23uPVp/D3jq2DZxsFcfpgT5sb5n2weOCH9m3N76XwUjzSM9L\n6ZH8FZxxeERqB1dk31G1thP3HOESvNGFtgqLGJ34xBSZ5h5V57qQs4VL8B0uUgphKgp4cF3lOyto\nexfynS7yH3hElC9E+LF5mB9DfsxG/ncMbzgRfgvl/xXycwW0K5sokv8sIjwNPv2F8XY8X4jymMER\nOWFRvybjT1k1vLF2gs2f6peKqd8wanggJ5dIrt88DGXF1PkfW1paX+bl9e20KzzV/aNXhAxeKk/O\nyP4xdmPIEbGCxy2csoQMXjX8D95K+/Gqdk16JD+89pQH6E++LnKNA56q0Vte5bwSnEjI/IkQJXiT\n/xfnp1LSROK/rH+2vGDxKsyUBotc+7Z2bsqiTzD/vpLvqz6j1dMxcESvWP96SRe129QseO35isI/\nA7ZW+/K/l5cdLsX1MgnsJ2eQ/63C7wJWLEa4zPZN/3h4DPQTVJefLTXnfwKvig14SnGXD2hx+rwy\nAsqvfSb+dUM+r1wnjzC3yjsgPksBQ4WGfMbl8UDHTa59nvLH8GUeTrb+nTuajt+0eXju720ZeIkH\n1a+/Yf2OIuuEPdBtq9dcLwvAJapx3fVrt2EyXgcylbA7uf60f8bJV5d/2NP7gsVnbUw6TIv9kylq\n/skj+YnuGxdZwKznfWMS9w9e4FJcL9qhNxY5g/y8OZG9yW/0/N/o7/fo4ZZk+ej/wx8/HbWtM2OY\nDAAAAABJRU5ErkJggg==\n",
=======
>>>>>>> lab5tobedone
      "text/latex": [
       "$$\\left[\\begin{matrix}0 & 1 & 4 & 9\\\\1 & 2 & 5 & 10\\end{matrix}\\right]$$"
      ],
      "text/plain": [
       "⎡0  1  4  9 ⎤\n",
       "⎢           ⎥\n",
       "⎣1  2  5  10⎦"
      ]
     },
     "execution_count": 8,
     "metadata": {},
     "output_type": "execute_result"
    }
   ],
   "source": [
    "i, j = symbols('i, j') \n",
    "\n",
    "def f(i, j):\n",
    "    return i**2+j**2\n",
    "\n",
    "M1 = Matrix(2, 4, f)\n",
    "M1"
   ]
  },
  {
   "cell_type": "code",
   "execution_count": 9,
   "metadata": {},
   "outputs": [
    {
     "name": "stdout",
     "output_type": "stream",
     "text": [
      "Cols and Rows of M1 matrix are 4 and 2\n",
      "the second element of row 0 is 4\n"
     ]
    }
   ],
   "source": [
    "print('Cols and Rows of M1 matrix are {} and {}'.format(M1.cols, M1.rows))\n",
    "print('the second element of row 0 is {}'.format(M1[0, 2]))"
   ]
  },
  {
   "cell_type": "code",
   "execution_count": 10,
   "metadata": {},
   "outputs": [
    {
     "data": {
<<<<<<< HEAD
      "image/png": "iVBORw0KGgoAAAANSUhEUgAAAAoAAAAPBAMAAAAv0UM9AAAALVBMVEX///8AAAAAAAAAAAAAAAAA\nAAAAAAAAAAAAAAAAAAAAAAAAAAAAAAAAAAAAAADAOrOgAAAADnRSTlMAMpndu3bvImbNiRBUq9OB\nhjcAAAAJcEhZcwAADsQAAA7EAZUrDhsAAABESURBVAgdY2BgYBACYgYGExDBmgIiK6aAyAUgkqMA\nRG5lAJELQCSPAIjcxQAiz969++wqUIIBrIvhCYi55N0NEMXAAABbkhBrtxdTYQAAAABJRU5ErkJg\ngg==\n",
=======
      "image/png": "iVBORw0KGgoAAAANSUhEUgAAAA4AAAASCAYAAABrXO8xAAAABHNCSVQICAgIfAhkiAAAAKdJREFU\nOI3V0r8KgWEUx/EPvRfgBlyAkcVich0WZXYBiowWRRksUtyJlGtgtNtIJgbePMX7+lMG3zrTeb7n\n1+k8/IgazrdqhI1sipTHCPtnzSQxgyl2GH8iNlFFHYd3xQJ6GGKRMPhBjDDHFq0kKX4Y0kERFRzT\nxDCxfEvpY5UmhWKEGTZov5JCcu6HflWDOAlOmCQMLbnuvcT6nTViuj78cql8Lf4RF1ALI2pCLx8i\nAAAAAElFTkSuQmCC\n",
>>>>>>> lab5tobedone
      "text/latex": [
       "$$4$$"
      ],
      "text/plain": [
       "4"
      ]
     },
     "execution_count": 10,
     "metadata": {},
     "output_type": "execute_result"
    }
   ],
   "source": [
    "M1[2]"
   ]
  },
  {
   "cell_type": "code",
   "execution_count": 11,
   "metadata": {},
   "outputs": [
    {
     "data": {
<<<<<<< HEAD
      "image/png": "iVBORw0KGgoAAAANSUhEUgAAAEAAAAAyBAMAAAAercAnAAAAMFBMVEX///8AAAAAAAAAAAAAAAAA\nAAAAAAAAAAAAAAAAAAAAAAAAAAAAAAAAAAAAAAAAAAAv3aB7AAAAD3RSTlMA74lUMhCZ3bt2ImbN\nq0Q16XkdAAAACXBIWXMAAA7EAAAOxAGVKw4bAAABsUlEQVQ4Ee2VvUvDQBjGHy1JTdOgoILoYHEQ\nBcXqLq1Su7aICA5iEXVScBQnF8FFcHUQ4uLiIHVzsgiCxUXHWgr9D7R+IX7VN7l83F2pOjp4Q/J+\n/PLkvTd3F3RX71F3DFUraE1M1M1jKjGMtvppKzPmAEkJm+65YREXWBMBpQv7ph1yAK1DBIwWGBke\nOLwQgeYcGu94ICIBcxvQHjlANyWggRQ+OWAGEkD64TcOiMgA8hh58IFAvAbQd8e5GiZRAwDGk68w\nWipVCrbLXcJXPkCW1Ci9EylTAF5sz7to58olc5xW91WLXtI2epfKAiBmec/9mnxMsP8B1o5f9iGf\nTkaF/pGjzB/H6cYU5A0caAfCUWXdA84KJtnemF2h1ZQFBijCFNji8QBoBGwDsfR3wAdwS4UxheLJ\ngv84WaSgPBOw4wKbOCrzBAEhOndSERcAmlZlgBR4QH2VAOEVhrdVHcqaBRUZc4ukvaxSyB8WsAWc\npp0aVCCY89P2LKxGLVPMnmYog6wpA8GoYh2ArA8Hg4t8Xr1+L0Lp34t7AJ+VbKYgBXn3bwA//g7k\n9chPAfRD+QISc3Sf6KMVRQAAAABJRU5ErkJggg==\n",
=======
>>>>>>> lab5tobedone
      "text/latex": [
       "$$\\left[\\begin{matrix}4 & 9\\\\5 & 10\\end{matrix}\\right]$$"
      ],
      "text/plain": [
       "⎡4  9 ⎤\n",
       "⎢     ⎥\n",
       "⎣5  10⎦"
      ]
     },
     "execution_count": 11,
     "metadata": {},
     "output_type": "execute_result"
    }
   ],
   "source": [
    "M1[:,2:4]"
   ]
  },
  {
   "cell_type": "code",
<<<<<<< HEAD
   "execution_count": 12,
=======
   "execution_count": 15,
>>>>>>> lab5tobedone
   "metadata": {},
   "outputs": [
    {
     "data": {
<<<<<<< HEAD
      "image/png": "iVBORw0KGgoAAAANSUhEUgAAADUAAAAyBAMAAAAOzY77AAAAMFBMVEX///8AAAAAAAAAAAAAAAAA\nAAAAAAAAAAAAAAAAAAAAAAAAAAAAAAAAAAAAAAAAAAAv3aB7AAAAD3RSTlMA74lUMhCrmXbNZiK7\nRN38cqFhAAAACXBIWXMAAA7EAAAOxAGVKw4bAAABPElEQVQ4Ee3Uv0vEMBQH8O/FK1TjtSf+2PT0\nFjdBEBzvwHPv5KqL52a7aNf6F+jkel3FRfwD5MBV0c1V/AcED11EY4QmfQ+amx3M0uZ9eHlpkgYt\n9YaKJpRqYra3XUHweltNzFXJb6xeaTK965a2HtHsHYgvY95BzGwfmDEGnDJbAuKurcdtELlN136N\nHHlAQ6+H+QY+JhDsuS3Vwzry/MRtm5BXjrx6At9lN+3VQ1vvuHWe6wqmDZT6tmaC7GnmyYJF599w\n3b7lK6N3otgjmaCTMwyGxvwRwmdmJ9Yai9g9oyYvrOkwH1NMEvNeaBouicm1I2peRgxYeSQowKw2\nT2yDmD6M06PSvGVi4TuziX4/XsiKdakNEXyWefpNRwqbytHJmIXW8JTeMxIPH7n9H5gUnT92Psfd\nkWPu1h85h1EamwQVaAAAAABJRU5ErkJggg==\n",
=======
>>>>>>> lab5tobedone
      "text/latex": [
       "$$\\left[\\begin{matrix}1 & 2\\\\3 & 4\\end{matrix}\\right]$$"
      ],
      "text/plain": [
       "⎡1  2⎤\n",
       "⎢    ⎥\n",
       "⎣3  4⎦"
      ]
     },
<<<<<<< HEAD
     "execution_count": 12,
=======
     "execution_count": 15,
>>>>>>> lab5tobedone
     "metadata": {},
     "output_type": "execute_result"
    }
   ],
   "source": [
    "a = [1, 2, 3, 4]\n",
    "M2 = Matrix(2, 2, a)\n",
    "M2"
   ]
  },
  {
   "cell_type": "markdown",
   "metadata": {},
   "source": [
    "* identity matrix"
   ]
  },
  {
   "cell_type": "code",
<<<<<<< HEAD
   "execution_count": 13,
=======
   "execution_count": 12,
>>>>>>> lab5tobedone
   "metadata": {},
   "outputs": [
    {
     "data": {
<<<<<<< HEAD
      "image/png": "iVBORw0KGgoAAAANSUhEUgAAAFgAAABLCAMAAADDCbAzAAAAPFBMVEX///8AAAAAAAAAAAAAAAAA\nAAAAAAAAAAAAAAAAAAAAAAAAAAAAAAAAAAAAAAAAAAAAAAAAAAAAAAAAAAAo1xBWAAAAE3RSTlMA\nMquZdlQQQOkwRO/NZondIrtsRPdGkQAAAAlwSFlzAAAOxAAADsQBlSsOGwAAAiBJREFUWAntmW2T\ngjAMhMurngjq9f//12tBSzYlzWXknLkZ+GJhyUNZCl3BVX5earfTclt4zlW+acPS7cR1Y6TVPoKr\nvZgrZ7SA+2YaJ7kTIDNwN/TrQbPWNbjV3+7Z9ucGkCm4r5vaF8DjEAnTVQCjTMGhoC2BH/O46aRd\nULaA/Qy+eGH4oGwA976JJlx8u+kFkw3gu58isVp+MjiTTeC5xzIYZAOYnSvvMpMNYLdcna588V6y\nBfx4xF6O4nAD2QJe7oCmfIO8ZAvY3eItPYgPC5AB3NSDv9YjvyxpvZ/C41DkOpABnAg7NA5wMvGw\n4rAiOZAanxkVkDjSsX/dgHLoMSSOTV4x0EA5BWPiyMFKoMFyCsbEkYPDllKgwXIKxsRhBmM5AbNp\n1gpm5QTMEocVzMoBDInDDoZyAmbnYgWz8gg+nb9mihJI4j6lUYHl3+f1P4gSSDQwlhMrnBJINDCW\nU7AWSBQrsBzAkDhiB9miBBooBzDjvLV6gJN9hxWHFcmB1PjMqIDEkY69NjR93TP+HVyfxw4SB93r\n2dZ0R/IMBWPiyMGKjnmGgjFx5GBNh5mLgjFx5GBNl8Bsms3Amh4KyFxLeswSRwbW9AIYEscGuKyL\nYO1UNV0Ea29QVF3y2GHiyKxQdRGMiSMHa7oIxsSRg1VdGG7htUz5DYqmQ54h43iji29sOsDJvP9q\nxR99YOnjB5G2vSR/3mzMH1ja1v0A4UooEMbFTswAAAAASUVORK5CYII=\n",
=======
>>>>>>> lab5tobedone
      "text/latex": [
       "$$\\left[\\begin{matrix}1 & 0 & 0\\\\0 & 1 & 0\\\\0 & 0 & 1\\end{matrix}\\right]$$"
      ],
      "text/plain": [
       "⎡1  0  0⎤\n",
       "⎢       ⎥\n",
       "⎢0  1  0⎥\n",
       "⎢       ⎥\n",
       "⎣0  0  1⎦"
      ]
     },
<<<<<<< HEAD
     "execution_count": 13,
=======
     "execution_count": 12,
>>>>>>> lab5tobedone
     "metadata": {},
     "output_type": "execute_result"
    }
   ],
   "source": [
    "I = eye(3)\n",
    "I"
   ]
  },
  {
   "cell_type": "code",
<<<<<<< HEAD
   "execution_count": 14,
=======
   "execution_count": 13,
>>>>>>> lab5tobedone
   "metadata": {},
   "outputs": [
    {
     "data": {
<<<<<<< HEAD
      "image/png": "iVBORw0KGgoAAAANSUhEUgAAAEYAAAAyBAMAAAATs7BgAAAAMFBMVEX///8AAAAAAAAAAAAAAAAA\nAAAAAAAAAAAAAAAAAAAAAAAAAAAAAAAAAAAAAAAAAAAv3aB7AAAAD3RSTlMA74lUMhCrmXbNZt0i\nu0TKQvJ9AAAACXBIWXMAAA7EAAAOxAGVKw4bAAABMElEQVQ4EWOQ//+JAR/Q//+RQdjFFZ8ShhAX\nQwYRvCpAko7EqzEMwGoasyjcHNb0fKxqwsq+wtUwMPRjVcPAMXTURO4GgSkMg9rNZfLTFmCJMPbE\nn1lAYRLiHYshCKFRcxBhgY1FfPiEa6mgG8BTftcBKgYxZzJD9AE0RWEMTP+Q1XAJMDBNQFOTysAg\niKyGN4GBGZzbkNRJMzDkO0D4YLv4Exj4PiPJg5jzA1DVxBcw8P1AUwPk7odmcLA55xUYWDALMz6Y\nEERNATY13AlQo8FqsNtVDrMd5mZmdDczcBSgqOG9wMCF7ncGcwaeAxBVYHOAYciOHoYsBQwcyGoY\nNjMEOkD0wMnTSurZUA7YHIagjhS4JJQx////3yhq0BWg8iHmoIqh8wafGmLqJiLqOAA7ZF1VHJHk\n5gAAAABJRU5ErkJggg==\n",
=======
>>>>>>> lab5tobedone
      "text/latex": [
       "$$\\left[\\begin{matrix}1 & -1\\\\0 & 2\\end{matrix}\\right]$$"
      ],
      "text/plain": [
       "⎡1  -1⎤\n",
       "⎢     ⎥\n",
       "⎣0  2 ⎦"
      ]
     },
<<<<<<< HEAD
     "execution_count": 14,
=======
     "execution_count": 13,
>>>>>>> lab5tobedone
     "metadata": {},
     "output_type": "execute_result"
    }
   ],
   "source": [
    "N = Matrix([[1, -1], [0, 2]])\n",
    "N"
   ]
  },
  {
   "cell_type": "markdown",
   "metadata": {},
   "source": [
    "* matrix multiplication"
   ]
  },
  {
   "cell_type": "code",
<<<<<<< HEAD
   "execution_count": 15,
=======
   "execution_count": 16,
>>>>>>> lab5tobedone
   "metadata": {},
   "outputs": [
    {
     "data": {
<<<<<<< HEAD
      "image/png": "iVBORw0KGgoAAAANSUhEUgAAADUAAAAyBAMAAAAOzY77AAAAMFBMVEX///8AAAAAAAAAAAAAAAAA\nAAAAAAAAAAAAAAAAAAAAAAAAAAAAAAAAAAAAAAAAAAAv3aB7AAAAD3RSTlMA74lUMhCrmXbNZiK7\n3UTVIrvSAAAACXBIWXMAAA7EAAAOxAGVKw4bAAABU0lEQVQ4Ee3UPU8CQRAG4PeAI8IiYNTCaAAp\nrDQevwATsb8/YCyJlUSjNCbYGAsLrKyvpiI0FDYm1qixMVaelb3ExI/oih9zO2tuaW285mbnyeze\nTvYWefmAkCciZRbjlZUQgl1ZzmIiTD5zsVATxXlHWcnl1V1EX8js6oZmTQdvZEBTszvffjYZ2Jy/\n64DVgrGucz1Yg/agrwdEcmbDmGuoOwEuHINJ12wzwG3bUNdC9Cn4lp38sccamq7v+oGxvAppfyqj\non9Dp3im+gEk9mNb1E9RQ9ljaElZIBvpI3PJLDF3OBh99zOdw9oRs/hXHPRam1M3+4qVId46WKI5\nIRa2uaVc8R4YMOtzBHrMrEndGnTORBupPrN1YNH/2UPmUbcpoEFn3jrF6CurqwE3tF7SQ3mPWRfJ\naTLc188ZQWxW2f/HheKgZ5Rg7z+wYXfkkLv1A0NEUslQvBGcAAAAAElFTkSuQmCC\n",
=======
>>>>>>> lab5tobedone
      "text/latex": [
       "$$\\left[\\begin{matrix}1 & 3\\\\3 & 5\\end{matrix}\\right]$$"
      ],
      "text/plain": [
       "⎡1  3⎤\n",
       "⎢    ⎥\n",
       "⎣3  5⎦"
      ]
     },
<<<<<<< HEAD
     "execution_count": 15,
=======
     "execution_count": 16,
>>>>>>> lab5tobedone
     "metadata": {},
     "output_type": "execute_result"
    }
   ],
   "source": [
    "M2*N"
   ]
  },
  {
   "cell_type": "code",
<<<<<<< HEAD
   "execution_count": 16,
=======
   "execution_count": 17,
>>>>>>> lab5tobedone
   "metadata": {},
   "outputs": [
    {
     "data": {
<<<<<<< HEAD
      "image/png": "iVBORw0KGgoAAAANSUhEUgAAAEYAAAAyBAMAAAATs7BgAAAAMFBMVEX///8AAAAAAAAAAAAAAAAA\nAAAAAAAAAAAAAAAAAAAAAAAAAAAAAAAAAAAAAAAAAAAv3aB7AAAAD3RSTlMA74lUMhCrmXbNZt0i\nRLt0ZOCCAAAACXBIWXMAAA7EAAAOxAGVKw4bAAABcklEQVQ4EWOQ//+JAR/Q//+RQdjFFZ8ShhAX\nQwYRvCpAko741HinKykpwNUYBmAzbf3///8ToGpY0/OxqqlhYGBD2NWPVQ3QHhVCahgYeBsIq+ED\nKoH5C7tdDAxahNWwfsCpJnI3CExhYOCYgFMNSAIMuB+AKGg443BPfAJhNf4FhNXYI6kpk5+2AKQD\nHRw0AIngjXeollE16GGHyqdu+IRrgdI/CmDtUL8AFYDYNZkh+gCKCgYGdgaGZGQ1XAIMTBPQ1Fgx\nMJxEVsOXwMD8FU2NHgNDNLIa/gQG3s9oau4/hWQcoDDYPfEFDLw/0NSw/V+0ACoEVnNegYEFozDT\n/xmAoqYAUw1z7n5ZZDXY7FrGwPERahDYLqCbmdHdLMPA4G8AMQishu8BAxea30E5nW0BkhpgGLJP\ngFoOo4Dm8B1AUsOwmSHQASYJpW8GMKyAMsF2MQR1pKApYWBJR4tTdAWofIg5qGLovMGnhpi6iYg6\nDgC2PV5DY+G7cgAAAABJRU5ErkJggg==\n",
=======
>>>>>>> lab5tobedone
      "text/latex": [
       "$$\\left[\\begin{matrix}1 & -7\\\\0 & 8\\end{matrix}\\right]$$"
      ],
      "text/plain": [
       "⎡1  -7⎤\n",
       "⎢     ⎥\n",
       "⎣0  8 ⎦"
      ]
     },
<<<<<<< HEAD
     "execution_count": 16,
=======
     "execution_count": 17,
>>>>>>> lab5tobedone
     "metadata": {},
     "output_type": "execute_result"
    }
   ],
   "source": [
    "N**3"
   ]
  },
  {
   "cell_type": "markdown",
   "metadata": {},
   "source": [
    "* List comprehension to create new matrix "
   ]
  },
  {
   "cell_type": "code",
<<<<<<< HEAD
   "execution_count": 17,
=======
   "execution_count": 18,
>>>>>>> lab5tobedone
   "metadata": {},
   "outputs": [
    {
     "data": {
<<<<<<< HEAD
      "image/png": "iVBORw0KGgoAAAANSUhEUgAAADUAAAAyBAMAAAAOzY77AAAAMFBMVEX///8AAAAAAAAAAAAAAAAA\nAAAAAAAAAAAAAAAAAAAAAAAAAAAAAAAAAAAAAAAAAAAv3aB7AAAAD3RSTlMA74lUMhCrmXbNZt0i\nu0TKQvJ9AAAACXBIWXMAAA7EAAAOxAGVKw4bAAAA/0lEQVQ4EWOQ//+JAQtg+v9fgEHYxRWLFAOr\ni7MAgwg2GZAYCxFyhgEouplF4fpY0/NR5MLKvsLlGBj6UeQYOEblwPFQJj9tAVKAsif+zCIuHpA0\nwZnExB9cMRJjGOkL11JB8hiQyVIAD8/JDNEHUCS5L8DkuAQYmCagyDXC5XgTGJhBqRUOeFbC5fgT\nGPg+wyWADCZOuFx8AQPfD2S5NQi58woMLMiZl7UBSa4AVY6JASGHbqYJkhzQLcxIbmFVQJLjvcDA\nheQH5rS0fLEGaH4H+p0d1e+McD8wbGYIdED2AwM/Qi6oIwVFiun+twVElSEouqCcAUiD+MpIPGUr\nAFq0UGRJbGtEAAAAAElFTkSuQmCC\n",
=======
>>>>>>> lab5tobedone
      "text/latex": [
       "$$\\left[\\begin{matrix}1 & 1\\\\0 & 4\\end{matrix}\\right]$$"
      ],
      "text/plain": [
       "⎡1  1⎤\n",
       "⎢    ⎥\n",
       "⎣0  4⎦"
      ]
     },
<<<<<<< HEAD
     "execution_count": 17,
=======
     "execution_count": 18,
>>>>>>> lab5tobedone
     "metadata": {},
     "output_type": "execute_result"
    }
   ],
   "source": [
    "Matrix(2, 2, [i*i for i in N])"
   ]
  },
  {
   "cell_type": "markdown",
   "metadata": {},
   "source": [
    "## 1.3 Linear algebra"
   ]
  },
  {
   "cell_type": "markdown",
   "metadata": {},
   "source": [
    "* transpose of a matrix"
   ]
  },
  {
   "cell_type": "code",
<<<<<<< HEAD
   "execution_count": 18,
=======
   "execution_count": 19,
>>>>>>> lab5tobedone
   "metadata": {},
   "outputs": [
    {
     "data": {
<<<<<<< HEAD
      "image/png": "iVBORw0KGgoAAAANSUhEUgAAADUAAAAyBAMAAAAOzY77AAAAMFBMVEX///8AAAAAAAAAAAAAAAAA\nAAAAAAAAAAAAAAAAAAAAAAAAAAAAAAAAAAAAAAAAAAAv3aB7AAAAD3RSTlMA74lUMhCrmXbNZiK7\n3UTVIrvSAAAACXBIWXMAAA7EAAAOxAGVKw4bAAABO0lEQVQ4Ee3UMUsDMRgG4PdyTeU4qieKk9ij\ns+AJ/gMrrvcHBKc6tlNdOtTJwaGbc1d1EZcOLh3cWxx09PwFglhRQeJV+JJ85dLZwSyX5OFNLh8h\nqKpXFDShVISV+l4BQdZ3I6wWyXSuVGhhbTMxtp3a6QH8LzJ51GTWS/BNBvSYPWfy02Ww1pzNAQex\nM3fzmO9BZ+D7AWLDbVhOHblbYJQ4TKVuWweerh25S/gf+l/a1fO+VdDF406mzZo3XTqfmTG9f8Og\nc2fqMe2VWlRPeYitjGFlSFZO4UXMTrR5Y5TfbAsvtAWTGROBtjxSmdi5K2YvsWWyy+zBIgjYtpCf\nx7QdZqcGABnb5reQ32VqfqPRXOvS/dwHzkh+v96Q6hLe19pjZkvaAqUUMzF679OaLEODP3Y/572R\nc97WHzf4VWxtmHPfAAAAAElFTkSuQmCC\n",
=======
>>>>>>> lab5tobedone
      "text/latex": [
       "$$\\left[\\begin{matrix}1 & 3\\\\2 & 4\\end{matrix}\\right]$$"
      ],
      "text/plain": [
       "⎡1  3⎤\n",
       "⎢    ⎥\n",
       "⎣2  4⎦"
      ]
     },
<<<<<<< HEAD
     "execution_count": 18,
=======
     "execution_count": 19,
>>>>>>> lab5tobedone
     "metadata": {},
     "output_type": "execute_result"
    }
   ],
   "source": [
    "transpose(M2)"
   ]
  },
  {
   "cell_type": "code",
<<<<<<< HEAD
   "execution_count": 19,
=======
   "execution_count": 20,
>>>>>>> lab5tobedone
   "metadata": {},
   "outputs": [
    {
     "data": {
<<<<<<< HEAD
      "image/png": "iVBORw0KGgoAAAANSUhEUgAAAEQAAABkCAMAAAAIYWa2AAAAP1BMVEX///8AAAAAAAAAAAAAAAAA\nAAAAAAAAAAAAAAAAAAAAAAAAAAAAAAAAAAAAAAAAAAAAAAAAAAAAAAAAAAAAAADFBd4eAAAAFHRS\nTlMAMquZdlQQQO0wRIlmzd0i77t8bBwggJIAAAAJcEhZcwAADsQAAA7EAZUrDhsAAAMZSURBVFgJ\n7ZndmuQQEIYriJlt+d11/9e6lEh89JB098nukxw0EV6lUFQ1dZYfQS88U2hL1Fmp3NO/wKDBtxTW\nQ7pX2h9tBoBoaQZznYiQ0Q1JT/PRx9Ncv2gsB8iw+I9mxCr4poUUtgZZeYL6vA5SiFReASSxDHnY\nxjxVIdpK3+nDqrxvfK9CZmt87S4k2DB9a0BYkvcgHxkOBcX2bymW1tUPfchnMNWHz1d1QmGxyepi\na0Jo8st+aW2euiSkjdvXDYYUix3FkI4RVmz64Ur+hpTaunXyf+lklnJdcX/lU1wcTLkGtD8RjH2k\n5QB5djCllX1e8MG18DEXvwHEFRa2IlaM6TL5nIA7wGXIyMbzTUiQaAI7fFkShjzwfHsNMuHV7CWI\n5JMyDMz/esiX/doLmrPjaqqMQb/hunViiol6z5jT69T14XQsh3oLMk/GGCl4yUUloCRPDqZYMaZj\nuP1WILHmxRQludg4Vr8hURNH+jGdaJXd1Y8+zuVmd3v+sL9zruOi1sd0gsMJu7TobS8YnQY7CY5I\nKcnEN+K9TZFZ/A5kT2L/VEDU0oCMRoAxcagcMg9jA4I2mqXJIYbehwxzGzIMStZuBdotvZYkq1ve\nc+VWQF7pLQhrYf3ZPPZeylMQaXNr//X9i/GaZ78BEewN4S3nz/exAXvhH7uImku7MERWbwVEjcUW\njtAJvLN8nRDZ+mKbPWVYUpUUK9as1qJbxepKfmZphEQrVkqS1D+bvSGlpm6d/Ds6cWFDI2BvlbJz\nCcYXYYr14iIaM+5QpETHDOOLABHsT4lgMrC1fzscsyy+CBC7mb6yfSzZrv5ZfDGF6GCPFLhmsXlI\nN0gWX0whFOwnGuFnkDwgBxDjXA53ZlgIGAElSJLHFwFCo7PzvakE6yKEdb/HFxHi49adaeqkOpwg\neRH4TQYEit3ji5kkvv745AYSORskiy8ChI+TDo7Z2HpLN0gWXwSIGjXp8ee5OVxEjC8ChIyUEuIR\nKMjhmGF8ESHY5vTbDSlV9UGdsMNcWahl57Fk/6dJ+3+LlKoskNikTPmfJqXoL3fOLDG/MjhxAAAA\nAElFTkSuQmCC\n",
=======
>>>>>>> lab5tobedone
      "text/latex": [
       "$$\\left[\\begin{matrix}0 & 1\\\\1 & 2\\\\4 & 5\\\\9 & 10\\end{matrix}\\right]$$"
      ],
      "text/plain": [
       "⎡0  1 ⎤\n",
       "⎢     ⎥\n",
       "⎢1  2 ⎥\n",
       "⎢     ⎥\n",
       "⎢4  5 ⎥\n",
       "⎢     ⎥\n",
       "⎣9  10⎦"
      ]
     },
<<<<<<< HEAD
     "execution_count": 19,
=======
     "execution_count": 20,
>>>>>>> lab5tobedone
     "metadata": {},
     "output_type": "execute_result"
    }
   ],
   "source": [
    "transpose(M1)"
   ]
  },
  {
   "cell_type": "markdown",
   "metadata": {},
   "source": [
    "* rank of a matrix"
   ]
  },
  {
   "cell_type": "code",
<<<<<<< HEAD
   "execution_count": 20,
=======
   "execution_count": 21,
>>>>>>> lab5tobedone
   "metadata": {},
   "outputs": [
    {
     "data": {
<<<<<<< HEAD
      "image/png": "iVBORw0KGgoAAAANSUhEUgAAAAoAAAAOBAMAAADkjZCYAAAAKlBMVEX///8AAAAAAAAAAAAAAAAA\nAAAAAAAAAAAAAAAAAAAAAAAAAAAAAAAAAADmU0mKAAAADXRSTlMAIom7VJlmdt1E7xDNIS4hGwAA\nAAlwSFlzAAAOxAAADsQBlSsOGwAAAFJJREFUCB1jYBBSMmFgYAxg8E1gYL/CwNvAwLmSYe8BBiAA\nijAwcDcBCUaNaCDJwKA1AURyrWZgFGBgBiq+DSK5DBg4LjKwJTD4FjAwTA21ZAAAM4UOK1ZklQ8A\nAAAASUVORK5CYII=\n",
=======
      "image/png": "iVBORw0KGgoAAAANSUhEUgAAAA4AAAASCAYAAABrXO8xAAAABHNCSVQICAgIfAhkiAAAAOhJREFU\nOI3N0r1KQ0EUBODPYCEkIGggkEZIYSUIYmEhpLESLHwI38DeNEHsxVexEDutBBWRQCqLQBD/wEqU\nSCx2F8Mlyr2QIgPLLmfPcGaGw4RwhHP08IE33OAAi6ONMxniF67RwRPK2MA6+vHdGzdx7g8lbQxx\nUtTCaiSepUIpJ3En3nepkPWYsI8K5gV/m5G0hef/JjxGaemcopZTHbF5F10h1bUiZFjCJ+6LEgmL\nMESV/KlCPd7f2Y9lIcUsSn4X4DIVZ0catnGICzzgVQiniYaQ9N44KSs4xi1eMMA7rtDCQk5L04Yf\nBeYtAc2H2hEAAAAASUVORK5CYII=\n",
>>>>>>> lab5tobedone
      "text/latex": [
       "$$3$$"
      ],
      "text/plain": [
       "3"
      ]
     },
<<<<<<< HEAD
     "execution_count": 20,
=======
     "execution_count": 21,
>>>>>>> lab5tobedone
     "metadata": {},
     "output_type": "execute_result"
    }
   ],
   "source": [
    "# rank of a matrix\n",
    "I.rank()"
   ]
  },
  {
   "cell_type": "code",
<<<<<<< HEAD
   "execution_count": 21,
=======
   "execution_count": 22,
>>>>>>> lab5tobedone
   "metadata": {},
   "outputs": [
    {
     "data": {
<<<<<<< HEAD
      "image/png": "iVBORw0KGgoAAAANSUhEUgAAAAgAAAAPBAMAAAArJJMAAAAAHlBMVEX///8AAAAAAAAAAAAAAAAA\nAAAAAAAAAAAAAAAAAACGjDitAAAACXRSTlMAVO8Qq5l2zWYZcMvdAAAACXBIWXMAAA7EAAAOxAGV\nKw4bAAAAHUlEQVQIHWNgAANGZQYGk5DJQDYbqQSr03QPsBkAJYgIYEZbtZEAAAAASUVORK5CYII=\n",
=======
      "image/png": "iVBORw0KGgoAAAANSUhEUgAAAA0AAAASCAYAAACAa1QyAAAABHNCSVQICAgIfAhkiAAAAHZJREFU\nKJFjYKACCGFgYJjMwMBwmIGB4RMDA8N/BgaGJYQ0XYAq/MzAwHCdWE2ODAwMqgwMDIwMDAwOuDSx\noPH3EzKVgYGBgYkYRaOaBlwTeuQGQDEDAwODBJS2ZGBgWABlv2FgYChBN6SBAZJ0cOEH5LiMzgAA\n6XoX52TB9a4AAAAASUVORK5CYII=\n",
>>>>>>> lab5tobedone
      "text/latex": [
       "$$1$$"
      ],
      "text/plain": [
       "1"
      ]
     },
<<<<<<< HEAD
     "execution_count": 21,
=======
     "execution_count": 22,
>>>>>>> lab5tobedone
     "metadata": {},
     "output_type": "execute_result"
    }
   ],
   "source": [
    "# determinant of a matrix\n",
    "I.det()"
   ]
  },
  {
   "cell_type": "code",
<<<<<<< HEAD
   "execution_count": 22,
=======
   "execution_count": 23,
>>>>>>> lab5tobedone
   "metadata": {},
   "outputs": [
    {
     "data": {
<<<<<<< HEAD
      "image/png": "iVBORw0KGgoAAAANSUhEUgAAAAkAAAAOBAMAAAAPuiubAAAALVBMVEX///8AAAAAAAAAAAAAAAAA\nAAAAAAAAAAAAAAAAAAAAAAAAAAAAAAAAAAAAAADAOrOgAAAADnRSTlMAIpm7MhCriUTv3c12VLge\nopIAAAAJcEhZcwAADsQAAA7EAZUrDhsAAABOSURBVAgdY2BUMnZgYAhjYH/BwJDKwDCTgWEWA0Oe\nA8O+ABAJBOsCgATHcxCTKwFEKoEIHgUQeYmBUYCBRYGBR4BBqrwoi4Fh37t3rxgAK5QOlzv7snYA\nAAAASUVORK5CYII=\n",
=======
      "image/png": "iVBORw0KGgoAAAANSUhEUgAAAA0AAAASCAYAAACAa1QyAAAABHNCSVQICAgIfAhkiAAAAMJJREFU\nKJHF0j9LQlEYB+DH6BNYhJ/HxcmpD9CgQ0OImxAIbi5u7eLSJji5NzQGDRItDtHQ3J0aSnS4LxJy\ntBMN/eBw4XCe+77nD3/MCdqYYYkPFLhHC0cpdIk13nCLIcZ4j/kpKruojmbijzW8Bjz/TevXgW7s\n6zORz/h+5VY5xiIqNXLRKMA8F3QCPKOaA64CPClP8Md0AyxwlgN6AR5xmgP6AR4c2MP3Z3GBCVbK\nSywS619izTaDqHJo3OW0+8/ZALIVMPhgrAZWAAAAAElFTkSuQmCC\n",
>>>>>>> lab5tobedone
      "text/latex": [
       "$$2$$"
      ],
      "text/plain": [
       "2"
      ]
     },
<<<<<<< HEAD
     "execution_count": 22,
=======
     "execution_count": 23,
>>>>>>> lab5tobedone
     "metadata": {},
     "output_type": "execute_result"
    }
   ],
   "source": [
    "M2.rank()"
   ]
  },
  {
   "cell_type": "code",
<<<<<<< HEAD
   "execution_count": 23,
=======
   "execution_count": 24,
>>>>>>> lab5tobedone
   "metadata": {},
   "outputs": [
    {
     "data": {
<<<<<<< HEAD
      "image/png": "iVBORw0KGgoAAAANSUhEUgAAABkAAAAOBAMAAAAoFKpzAAAALVBMVEX///8AAAAAAAAAAAAAAAAA\nAAAAAAAAAAAAAAAAAAAAAAAAAAAAAAAAAAAAAADAOrOgAAAADnRSTlMAEM3dMiKZu6uJRO92VKoV\n2MsAAAAJcEhZcwAADsQAAA7EAZUrDhsAAABeSURBVAgdY2CAAta0cgcYm4FBgoHzFYLXyMCwG8Hb\nzMDQh1CqJ4DMA6qyE0AoZeB6icRhYG5gYBAyBgEVoHAashRPAjLvGgNrAJzPksDAg+AFz5zWDJdi\n0Hv37jEDAGBWEJ9xq8kjAAAAAElFTkSuQmCC\n",
=======
      "image/png": "iVBORw0KGgoAAAANSUhEUgAAAB4AAAASCAYAAABM8m7ZAAAABHNCSVQICAgIfAhkiAAAAOlJREFU\nSInt1LFKA0EURuFPyROoiM8TCysrH8AiFhYS0gmCYGdjE+zFQruAlb1FykCKgDYKwSKlmEpBJSn2\nirLKbpTdLcQDw8CdnzncGWb4AyxiCxe4xRPG6KKB+bLE25hghHMc4gSPUe9grgxxHeu+draC+5Bv\nlCHOYi/Ex++F0s49xUvMrxX5QA0DScdrVYqPQnqZFRpGaNZxliNtRu4GC58XaqngHZ5ze/hglLG2\ngzausYqHH+z7a1qSTgdYrkIIuyHtY6kq6X5Ie1J3mqbIL2wTp3iTfBTjbzLDyBTKgfxXcFW09J9c\npkyzQNztcSWCAAAAAElFTkSuQmCC\n",
>>>>>>> lab5tobedone
      "text/latex": [
       "$$-2$$"
      ],
      "text/plain": [
       "-2"
      ]
     },
<<<<<<< HEAD
     "execution_count": 23,
=======
     "execution_count": 24,
>>>>>>> lab5tobedone
     "metadata": {},
     "output_type": "execute_result"
    }
   ],
   "source": [
    "M2.det()"
   ]
  },
  {
   "cell_type": "code",
<<<<<<< HEAD
   "execution_count": 24,
=======
   "execution_count": 25,
>>>>>>> lab5tobedone
   "metadata": {},
   "outputs": [
    {
     "data": {
<<<<<<< HEAD
      "image/png": "iVBORw0KGgoAAAANSUhEUgAAAFkAAAAyBAMAAADFFmoFAAAAMFBMVEX///8AAAAAAAAAAAAAAAAA\nAAAAAAAAAAAAAAAAAAAAAAAAAAAAAAAAAAAAAAAAAAAv3aB7AAAAD3RSTlMA74lUMhDN3SKZu6tE\ndmbQNlrcAAAACXBIWXMAAA7EAAAOxAGVKw4bAAABwElEQVRIDeXWPUjDQBQA4Nf8NC2tGlDnFic7\nKXRzsWgVnNrdpeDgWhy0oEJHnSyCCC046eCmg+IkRdwVB7Gbjk6KWBEUzlzq/SW+mCpOZrmXvC+v\nr3f5gxR5glCbRogN/fmpUBjM/KQNA+EsVYaq1+u7Qeeq2jyAkaaP64PskKoTRYjYLMXG2UabhaqO\nlCHxzFJ87EF0tN2NdspZvNC3tR1wkeaKBVgnTn6ZGTF6tTm/5GyLOYB4TSgWeTU7DtASIY9Qrddg\njSsWoHoG4IYhPmI6tjDUKHPFAkxHCSE+HT98Of08UV15Vg0b/53WWkfYXDj3b4nmpDnZgTqqjc6i\nSXoTHlANurtokoaA2l9oM+A55K99ffl3nUBhFC3u7cTpeuM2tIYK3BVxbdOUNIMTVycojm2/0SmQ\nNEpF4qe6z7kniSjjRvypRHOPv+hEq295Sku7mX06X1Lfw3AspdVQqyZKqq5AoaoasWdVjVdVr8BG\nU+TVyGrG3lUNME57QzadvjOkvgFWEUkPW9611GoBOkNzcu37ANzrVpJ0Mp3Mof4MztXa09kx9F8a\nc9m9jmZfHCnfZSJ+KUIvE/eLo6uvmQ96DW582Zh8hgAAAABJRU5ErkJggg==\n",
=======
>>>>>>> lab5tobedone
      "text/latex": [
       "$$\\left[\\begin{matrix}-2 & 1\\\\\\frac{3}{2} & - \\frac{1}{2}\\end{matrix}\\right]$$"
      ],
      "text/plain": [
       "⎡-2    1  ⎤\n",
       "⎢         ⎥\n",
       "⎣3/2  -1/2⎦"
      ]
     },
<<<<<<< HEAD
     "execution_count": 24,
=======
     "execution_count": 25,
>>>>>>> lab5tobedone
     "metadata": {},
     "output_type": "execute_result"
    }
   ],
   "source": [
    "M2.inv()"
   ]
  },
  {
   "cell_type": "code",
<<<<<<< HEAD
   "execution_count": 25,
=======
   "execution_count": 26,
>>>>>>> lab5tobedone
   "metadata": {},
   "outputs": [
    {
     "data": {
<<<<<<< HEAD
      "image/png": "iVBORw0KGgoAAAANSUhEUgAAAFkAAAAyBAMAAADFFmoFAAAAMFBMVEX///8AAAAAAAAAAAAAAAAA\nAAAAAAAAAAAAAAAAAAAAAAAAAAAAAAAAAAAAAAAAAAAv3aB7AAAAD3RSTlMA74lUMhDN3SKZu6tE\ndmbQNlrcAAAACXBIWXMAAA7EAAAOxAGVKw4bAAABwElEQVRIDeXWPUjDQBQA4Nf8NC2tGlDnFic7\nKXRzsWgVnNrdpeDgWhy0oEJHnSyCCC046eCmg+IkRdwVB7Gbjk6KWBEUzlzq/SW+mCpOZrmXvC+v\nr3f5gxR5glCbRogN/fmpUBjM/KQNA+EsVYaq1+u7Qeeq2jyAkaaP64PskKoTRYjYLMXG2UabhaqO\nlCHxzFJ87EF0tN2NdspZvNC3tR1wkeaKBVgnTn6ZGTF6tTm/5GyLOYB4TSgWeTU7DtASIY9Qrddg\njSsWoHoG4IYhPmI6tjDUKHPFAkxHCSE+HT98Of08UV15Vg0b/53WWkfYXDj3b4nmpDnZgTqqjc6i\nSXoTHlANurtokoaA2l9oM+A55K99ffl3nUBhFC3u7cTpeuM2tIYK3BVxbdOUNIMTVycojm2/0SmQ\nNEpF4qe6z7kniSjjRvypRHOPv+hEq295Sku7mX06X1Lfw3AspdVQqyZKqq5AoaoasWdVjVdVr8BG\nU+TVyGrG3lUNME57QzadvjOkvgFWEUkPW9611GoBOkNzcu37ANzrVpJ0Mp3Mof4MztXa09kx9F8a\nc9m9jmZfHCnfZSJ+KUIvE/eLo6uvmQ96DW582Zh8hgAAAABJRU5ErkJggg==\n",
=======
>>>>>>> lab5tobedone
      "text/latex": [
       "$$\\left[\\begin{matrix}-2 & 1\\\\\\frac{3}{2} & - \\frac{1}{2}\\end{matrix}\\right]$$"
      ],
      "text/plain": [
       "⎡-2    1  ⎤\n",
       "⎢         ⎥\n",
       "⎣3/2  -1/2⎦"
      ]
     },
<<<<<<< HEAD
     "execution_count": 25,
=======
     "execution_count": 26,
>>>>>>> lab5tobedone
     "metadata": {},
     "output_type": "execute_result"
    }
   ],
   "source": [
    "M2**-1"
   ]
  },
  {
   "cell_type": "markdown",
   "metadata": {},
   "source": [
    "* eigenvalues"
   ]
  },
  {
   "cell_type": "code",
<<<<<<< HEAD
   "execution_count": 26,
=======
   "execution_count": 27,
>>>>>>> lab5tobedone
   "metadata": {},
   "outputs": [
    {
     "data": {
<<<<<<< HEAD
      "image/png": "iVBORw0KGgoAAAANSUhEUgAAASoAAAA/BAMAAACleJiAAAAAMFBMVEX///8AAAAAAAAAAAAAAAAA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\n",
=======
      "image/png": "iVBORw0KGgoAAAANSUhEUgAAAUcAAAAjCAYAAAAHW8iTAAAABHNCSVQICAgIfAhkiAAAB29JREFU\neJztnXmMFFUQhz9gNSg3qKBCBCKCshrPoAZhwGjQgIL6B/FijBcmRlE0hniNJgoih4Bn4rF4B1FM\nVBCjLgmoEInggYiKrBcuCCgS44XiH/UmO8xMX2+6p7tn60smPd3z6nXNzq+r31GvFxRFURRFURQl\nDOqACcBlcTsSEnsS8FLSieqmtngVGG9r3B5oBCab92nnBGBi3E4oqUS1U3t0AZ4BZtsYzwCeCNWd\neLkD6BO3E0oqUe3UJm2Aj4EzgxjtB/wOHO3weY7SZn+ztYvV4fG4HVBSi2onGDnSEx9uRbrYJdQ5\nGJwK7A+sd6l0A5Ap2P/XxrMq0ZPk/jhKslHt2JGW+LAZGF7uA6fgOMhsd7tUupv0iOYsYHHcTiip\nRLVjR1riwx6gK9Ad2FH4QVsHgy4+Ku2PRN1NwItmP6kMAVbG7YSSSlQ7dqQpPgB0Lj7gFBz39aho\nFZAFRgFXAr2A94EeFTgXFfsgTfr/4nZESR2qHTvSFB/yOPWiS8gRLLeqA7AVuDGgQ9VgBO75TPcB\n7wDfA38gTes1wJ04/5g2NsX0RC68eWa/B3AFsAj42tS7E1gBXI7zjcyWC8y5lwO/Ib/3syGfI+2E\nrZ1a0I0NUcaHSnWcNTaH+zXIETzxtBF4JKBNNZgGdHP5/G+k2/SkKTsP+BD5/j9SPoXDxqaYq0z5\nEWZ/otnfDDwHTDX1/2qOL0RSD8Jiral3FzLxpsGxlLC1Uwu6sSWq+FCpji/FIjhuD3CC9sBPSD6Y\nLVnEyYylfVvKN40f87BzSnC/x/jzcEg2xSwBtgHtzP5IYAyld/pewHem3vN91OuXEcAA5MLJ0LqD\nY7W0kzbdZKnsmswTRnxwolIdj8IhODo1uTsC37hUOAOZ/u6HDFgvRJrO8wM4FSbdkBnFi4qO9wc2\netj+6XB8gdkOCMmmkM6IqF+jJcXhXbNfPL7VDDxq3mc86g1CI/AVujStmtqpBd34oZrxoVIdf2G2\nJcMaTsFxCPCSS4W9gReQXKZXgL+Ak4FvLR2slMHAFmB00fHRwBuWdY4x208isBmNTHot8lnvP2br\nlloF0ICIJOuzXiUZ2olbN2ETRnxooDpabgKWITedvSjXlRiG5Py4jQ9YL9iOiBWIwFcjM4x5URwF\nzPVZx01Ii7kLcCIwFBHrtJBtAMYhK5De8uFXHTIuAvCmj/JKMOLQTq3rJmnxwYtrkNb3U7jkZo5H\nIv1hVXKqkCyVj29sAE437zsAMwPYNrP3cqclyMxg2DbtkcFjt5Z5ITNM3X5aMQcjCfx+8lQLydC6\nxxyhutpJmm6cyBLOmKMNNlrOYK/jwcDLtLTiS7gfmE70T+FpItjjmhp81juTlqdsnIusbghKT+QO\nvQGZATw+ZJsxyHe60Ee915my65HWfFRkSE9wbCKYdvx+pzi0kyTdNBHNNVlNMtjreBzwNC2rA0u6\n1Tcjz27MR9Cokl8fQJbsFHIsIsr5yA9VyFqf9b6OzDDegPyhplj4tgUZ0/kI+BL5g9WHaHMektLh\ndUe/FpgDfI60aHa4F281bMR5YqMcm32Wi0M7SdJNVNdkGjgDuAs4CRkfdWUdzgOhUT2gM0vlTfg6\nJL9rIP7SIrxYY3w6ICSbdkgaxhKPOiaZOj4FDgpwblsypKflGBVxayeJuskS/JqMKj74IYOdjtcB\nVxcfdJqtbqRlMLeYNgFe1WY3sBS4jXDubIeYbZAnirjZDENSBtxmG29BundrkRyurQHOrdgTt3Zq\nRTdJjg/lqEcm31b5NcghSZvVJEs4g7+XIMMBvX2UPYLyA75taUnMfS8EmzxzEfE7Db7fbuxXYzfG\nGPWETAO1nSoUpXaSrBsnstT+hMw5OCSBuy22dps9m4KMgQxE+ugrzbHPAjgVFYuRLsoPPsqejSy3\nWoE8PWQ78r2HI0nAzcjC+UptQO6UY4EPkLGmYiYAdyMXwXJkUL2YJtwHwqfS8j9/3MphfBlr3vcy\n21MK7LYhKSeF5Hsa1c6bqxZRaifJugmbMOKDXy3b6LgQt+WhZcnhPiawFHG6Hnla+CLkx63krpUl\nvLtUX5/l6oEHka7INuSi34msd81R/vvY2IAM9u7BefF9Du8xmmUe36cB/y07r/M1lbFZgyzuDyyo\nFNHXZ7mgOkiybpzIYndNhhEfGvCn5RzBdVxIFoeWo9cJ/dIRuXM55ggp3Iv8TfvF7YglXZHfeHrc\njrQy0q4bSHZ8yOIQHJ0mZIJ2mzqZun4JaNeaGIf8M59NcTtiyWnI6pFZcTvSyki7biAd8cEzhSfP\n9QRrOS5AulztvAoqitLqSHJ8yCKxrlPxB04TMvkn8rTBO0jOQtaGDiW5/0RHUZR4SHp8qEMWCuzy\na9AD6Vof6lFuNpLyM8ijnKIorY80xIdZyAMnAvE8MNnl8znIDNSRlk4pilK7pCE+dAd+Bo4Jangg\nsgzpYkqz2R9CUjpGIrlF+VfHSjxVFKUmSEN86AO8TZllg37pimTvTyo67pRTlLM9kaIoNUMa4sNM\n4Li4nVAURVEURVEURVGUGuV/cQoxeJn1NlYAAAAASUVORK5CYII=\n",
>>>>>>> lab5tobedone
      "text/latex": [
       "$$\\left \\{ \\frac{5}{2} + \\frac{\\sqrt{33}}{2} : 1, \\quad - \\frac{\\sqrt{33}}{2} + \\frac{5}{2} : 1\\right \\}$$"
      ],
      "text/plain": [
       "⎧5   √33       √33   5   ⎫\n",
       "⎨─ + ───: 1, - ─── + ─: 1⎬\n",
       "⎩2    2         2    2   ⎭"
      ]
     },
<<<<<<< HEAD
     "execution_count": 26,
=======
     "execution_count": 27,
>>>>>>> lab5tobedone
     "metadata": {},
     "output_type": "execute_result"
    }
   ],
   "source": [
    "evals = M2.eigenvals()\n",
    "evals"
   ]
  },
  {
   "cell_type": "code",
<<<<<<< HEAD
   "execution_count": 27,
=======
   "execution_count": 28,
>>>>>>> lab5tobedone
   "metadata": {},
   "outputs": [
    {
     "data": {
<<<<<<< HEAD
      "text/plain": [
       "dict_values([1, 1])"
      ]
     },
     "execution_count": 27,
=======
      "image/png": "iVBORw0KGgoAAAANSUhEUgAAAEcAAAAVCAYAAAAU9vPjAAAABHNCSVQICAgIfAhkiAAAAT1JREFU\nWIXt2DFKA0EUxvEfYmGjKFjY2dlqa2UuIFhYWqS1FDxAbD2FhZ7AAxhPoJ2WOYCVglgosdgNWZPN\nmNlsNoLzh2GHmZ15337MwrxHYipa6Bfa80LVNMemn9/dH0wsl7x8jy5eRsaPcYA97GIVNzipXe7s\nxGh9x0Xeb2O7bMOWzLXOhICP+fwbnvL+dQXhTVBVa1fh5CxFBDzDDtZwGrFuEdSitey3msRd1SAL\noBatMSfn35HMCZDMCZDMCZDMCZDMCZDMCTBvc65kN872nOPMhZhL4FHeYCt/7ssMIMvFzkfWDMz/\nrCJuBqpoDdISzq06xrPXYuuVrHnAKzZihNRAR7xWRnKrIi1hc2JZxxcua9qvCbp+Maeues4hPgyP\n9V9lqnpOz7CuwXg9J5ZbrMy4RxMU6zmJRA18A8a5VDJaC4RrAAAAAElFTkSuQmCC\n",
      "text/latex": [
       "$$\\left [ 1, \\quad 1\\right ]$$"
      ],
      "text/plain": [
       "[1, 1]"
      ]
     },
     "execution_count": 28,
>>>>>>> lab5tobedone
     "metadata": {},
     "output_type": "execute_result"
    }
   ],
   "source": [
    "evals.values()"
   ]
  },
  {
   "cell_type": "markdown",
   "metadata": {},
   "source": [
    "## 2 Exercises\n"
   ]
  },
  {
   "cell_type": "markdown",
   "metadata": {
    "collapsed": true
   },
   "source": [
    "### 2.1 Vector manipulation\n",
    "* Q 2.1.1 - Define the two vectors\n",
    "$$c = \\begin{bmatrix} \n",
    "  \\sin(\\theta)\\cos(\\phi) \\\\\n",
    "  \\sin(\\theta)\\sin(\\phi)\\\\\n",
    "  \\cos(\\theta)\n",
    "\\end{bmatrix}\n",
    ", \n",
    "o = \\begin{bmatrix} \n",
    "  -\\cos(\\theta)\\cos(\\phi) \\\\\n",
    "  -\\cos(\\theta)\\sin(\\phi)\\\\\n",
    "  \\sin(\\theta)\n",
    "\\end{bmatrix}$$"
   ]
  },
  {
   "cell_type": "code",
<<<<<<< HEAD
   "execution_count": 28,
   "metadata": {
    "collapsed": true
   },
   "outputs": [],
   "source": []
  },
  {
   "cell_type": "code",
   "execution_count": null,
   "metadata": {},
   "outputs": [],
   "source": []
=======
   "execution_count": 29,
   "metadata": {},
   "outputs": [
    {
     "name": "stdout",
     "output_type": "stream",
     "text": [
      "[sin(theta)*cos(phi), sin(phi)*sin(theta), cos(theta)]\n"
     ]
    }
   ],
   "source": [
    "theta,phi=symbols('theta,phi')\n",
    "c=[sin(theta)*cos(phi),sin(theta)*sin(phi),cos(theta)]\n",
    "#c=c.reshape(3,1)\n",
    "#c = c.transpose()\n",
    "print(c)"
   ]
  },
  {
   "cell_type": "code",
   "execution_count": 30,
   "metadata": {},
   "outputs": [
    {
     "name": "stdout",
     "output_type": "stream",
     "text": [
      "[-cos(phi)*cos(theta), -sin(phi)*cos(theta), sin(theta)]\n"
     ]
    }
   ],
   "source": [
    "o=[-cos(theta)*cos(phi),-cos(theta)*sin(phi),sin(theta)]\n",
    "#o=o.reshape(3,1)\n",
    "print(o)"
   ]
>>>>>>> lab5tobedone
  },
  {
   "cell_type": "markdown",
   "metadata": {},
   "source": [
    "* Q 2.1.2 - Prove that these vectors are orthogonal "
   ]
  },
  {
   "cell_type": "code",
<<<<<<< HEAD
   "execution_count": null,
   "metadata": {},
   "outputs": [],
   "source": []
  },
  {
   "cell_type": "code",
   "execution_count": null,
   "metadata": {},
   "outputs": [],
   "source": []
=======
   "execution_count": 32,
   "metadata": {},
   "outputs": [
    {
     "name": "stdout",
     "output_type": "stream",
     "text": [
      "-sin(phi)**2*sin(theta)*cos(theta) - sin(theta)*cos(phi)**2*cos(theta) + sin(theta)*cos(theta)\n"
     ]
    }
   ],
   "source": [
    "dot_eq = np.dot(o, c)\n",
    "#print(dot_eq.shape)\n",
    "print(dot_eq)"
   ]
  },
  {
   "cell_type": "code",
   "execution_count": 33,
   "metadata": {
    "collapsed": true
   },
   "outputs": [],
   "source": [
    "def func(the, ph):\n",
    "    val = -np.sin(ph)**2*np.sin(the)*np.cos(the) - np.sin(the)*np.cos(ph)**2*np.cos(the) + np.sin(the)*np.cos(the)\n",
    "    return val"
   ]
  },
  {
   "cell_type": "code",
   "execution_count": 34,
   "metadata": {},
   "outputs": [
    {
     "data": {
      "image/png": "iVBORw0KGgoAAAANSUhEUgAAACEAAAASCAYAAADVCrdsAAAABHNCSVQICAgIfAhkiAAAAPxJREFU\nSInt1bEuREEUxvFfJBoiS7QkkhvWI2g9kOegEqWKV9BS6LyDpbAaoiMoKNCcjdnhyp2bjd1iv+bL\nPWfmny85mXOZUK3gCHd4Qx8HWPovVoUHfOIEeziP70ssFwRozTqNQztZfT/qhwUhWrGqaN5gJust\n4AWvmG8QoIiVHtgOP8NHdvEZF5jDVoMQRaw0RDf8qgZ8Hb7RIEQRKw3RCX+quTioLzYIUcTK5zUW\npSEG6Tq/HUzqjw24Raw0RC+8bubr4XVzTtWaNbYnmqt0wVTYxOwIWEPQdNXu+l61PT9XbT96ayNg\nDWkVx7jHO27V/3T+ClHKmmoy9AWFHGWXOYCM4QAAAABJRU5ErkJggg==\n",
      "text/latex": [
       "$$0.0$$"
      ],
      "text/plain": [
       "0.0"
      ]
     },
     "execution_count": 34,
     "metadata": {},
     "output_type": "execute_result"
    }
   ],
   "source": [
    "func(np.pi/5, np.pi/2)\n"
   ]
>>>>>>> lab5tobedone
  },
  {
   "cell_type": "markdown",
   "metadata": {},
   "source": [
    "* Q2.1.3 - prove that their norm is 1"
   ]
  },
  {
   "cell_type": "code",
<<<<<<< HEAD
   "execution_count": null,
   "metadata": {},
   "outputs": [],
   "source": []
  },
  {
   "cell_type": "code",
   "execution_count": null,
   "metadata": {},
   "outputs": [],
   "source": [
    "\n"
=======
   "execution_count": 35,
   "metadata": {},
   "outputs": [
    {
     "data": {
      "image/png": "iVBORw0KGgoAAAANSUhEUgAAAA0AAAASCAYAAACAa1QyAAAABHNCSVQICAgIfAhkiAAAAHZJREFU\nKJFjYKACCGFgYJjMwMBwmIGB4RMDA8N/BgaGJYQ0XYAq/MzAwHCdWE2ODAwMqgwMDIwMDAwOuDSx\noPH3EzKVgYGBgYkYRaOaBlwTeuQGQDEDAwODBJS2ZGBgWABlv2FgYChBN6SBAZJ0cOEH5LiMzgAA\n6XoX52TB9a4AAAAASUVORK5CYII=\n",
      "text/latex": [
       "$$1$$"
      ],
      "text/plain": [
       "1"
      ]
     },
     "execution_count": 35,
     "metadata": {},
     "output_type": "execute_result"
    }
   ],
   "source": [
    "o_norm=sqrt(np.dot(o,o))\n",
    "o_norm.simplify()\n",
    "#c_norm=sqrt(np.dot(c,c))\n"
   ]
  },
  {
   "cell_type": "code",
   "execution_count": 36,
   "metadata": {},
   "outputs": [
    {
     "data": {
      "image/png": "iVBORw0KGgoAAAANSUhEUgAAAA0AAAASCAYAAACAa1QyAAAABHNCSVQICAgIfAhkiAAAAHZJREFU\nKJFjYKACCGFgYJjMwMBwmIGB4RMDA8N/BgaGJYQ0XYAq/MzAwHCdWE2ODAwMqgwMDIwMDAwOuDSx\noPH3EzKVgYGBgYkYRaOaBlwTeuQGQDEDAwODBJS2ZGBgWABlv2FgYChBN6SBAZJ0cOEH5LiMzgAA\n6XoX52TB9a4AAAAASUVORK5CYII=\n",
      "text/latex": [
       "$$1$$"
      ],
      "text/plain": [
       "1"
      ]
     },
     "execution_count": 36,
     "metadata": {},
     "output_type": "execute_result"
    }
   ],
   "source": [
    "c_norm=sqrt(np.dot(c,c))\n",
    "c_norm.simplify()\n"
>>>>>>> lab5tobedone
   ]
  },
  {
   "cell_type": "markdown",
   "metadata": {},
   "source": [
    "* Q2.1.3 - Compute the third vector $b$ that is orthogonal to both $o$ and $c$"
   ]
  },
  {
   "cell_type": "code",
<<<<<<< HEAD
   "execution_count": null,
   "metadata": {},
   "outputs": [],
   "source": []
=======
   "execution_count": 37,
   "metadata": {},
   "outputs": [
    {
     "name": "stdout",
     "output_type": "stream",
     "text": [
      "[sin(phi)*sin(theta)**2 + sin(phi)*cos(theta)**2\n",
      " -sin(theta)**2*cos(phi) - cos(phi)*cos(theta)**2 0]\n"
     ]
    }
   ],
   "source": [
    "b=np.cross(c,o)\n",
    "print b"
   ]
>>>>>>> lab5tobedone
  },
  {
   "cell_type": "markdown",
   "metadata": {},
   "source": [
    "### 2.2 Basic matrices computation\n",
    "\n",
    "Consider the following matrices:\n",
    "$$\n",
    "A = \\begin{bmatrix} \n",
    "  -3 & 2 \\\\\n",
    "   0 & 4\\\\\n",
    "   1 & -1\n",
    "\\end{bmatrix}\n",
    ", \n",
    "B = \\begin{bmatrix} \n",
    "  1 & 2 \\\\\n",
    "  0 & 1 \\\\\n",
    "  1 & 1\n",
    "\\end{bmatrix}\n",
    "$$\n",
    "* Q 2.2.1 - Find a matrix $C$ such that $A-2B-C=0$\n",
    "* Q 2.2.2 - Find a matrix $D$ such that $A+B+C+4D =0$"
   ]
  },
  {
   "cell_type": "code",
<<<<<<< HEAD
   "execution_count": null,
   "metadata": {},
   "outputs": [],
   "source": []
  },
  {
   "cell_type": "code",
   "execution_count": null,
   "metadata": {},
   "outputs": [],
   "source": []
=======
   "execution_count": 46,
   "metadata": {
    "collapsed": true
   },
   "outputs": [],
   "source": [
    "A=Matrix([[-3,2],[0,4],[1,-1]])\n",
    "B=Matrix([[1,2],[0,1],[1,-1]])"
   ]
  },
  {
   "cell_type": "code",
   "execution_count": 47,
   "metadata": {},
   "outputs": [
    {
     "data": {
      "text/latex": [
       "$$\\left[\\begin{matrix}-5 & -2\\\\0 & 2\\\\-1 & 1\\end{matrix}\\right]$$"
      ],
      "text/plain": [
       "⎡-5  -2⎤\n",
       "⎢      ⎥\n",
       "⎢0   2 ⎥\n",
       "⎢      ⎥\n",
       "⎣-1  1 ⎦"
      ]
     },
     "execution_count": 47,
     "metadata": {},
     "output_type": "execute_result"
    }
   ],
   "source": [
    "C=A-2*B\n",
    "C"
   ]
  },
  {
   "cell_type": "code",
   "execution_count": 48,
   "metadata": {
    "scrolled": true
   },
   "outputs": [
    {
     "data": {
      "text/latex": [
       "$$\\left[\\begin{matrix}1.75 & -0.5\\\\0 & -1.75\\\\-0.25 & 0.25\\end{matrix}\\right]$$"
      ],
      "text/plain": [
       "⎡1.75   -0.5 ⎤\n",
       "⎢            ⎥\n",
       "⎢  0    -1.75⎥\n",
       "⎢            ⎥\n",
       "⎣-0.25  0.25 ⎦"
      ]
     },
     "execution_count": 48,
     "metadata": {},
     "output_type": "execute_result"
    }
   ],
   "source": [
    "D=-0.25*(A+B+C)\n",
    "D"
   ]
>>>>>>> lab5tobedone
  },
  {
   "cell_type": "markdown",
   "metadata": {},
   "source": [
    "### 2.3 Linear system \n",
    "Find the following linear system by first using solve and then using matrix representation.\n",
    "\n",
    "$$\n",
    "  \\begin{cases}\n",
    "    x_1 + 2x_2 + 3x_3 + 4x_4 &= 25,\\\\\n",
    "    -x_2 + x_3 -x_4 &= 5,\\\\\n",
    "    x_1 + 2x_2+ 2x_3 &= 20, \\\\\n",
    "    2x_1 + 3x_3 &= 19\n",
    "  \\end{cases}\n",
    "$$\n",
    "\n"
   ]
  },
  {
   "cell_type": "code",
<<<<<<< HEAD
   "execution_count": null,
=======
   "execution_count": 49,
>>>>>>> lab5tobedone
   "metadata": {
    "collapsed": true
   },
   "outputs": [],
<<<<<<< HEAD
   "source": []
  },
  {
   "cell_type": "code",
   "execution_count": null,
   "metadata": {},
   "outputs": [],
   "source": []
  },
  {
   "cell_type": "code",
   "execution_count": null,
   "metadata": {},
   "outputs": [],
   "source": []
  },
  {
   "cell_type": "code",
   "execution_count": null,
   "metadata": {
    "scrolled": true
   },
   "outputs": [],
   "source": []
  },
  {
   "cell_type": "code",
   "execution_count": null,
   "metadata": {},
   "outputs": [],
   "source": []
=======
   "source": [
    "x1,x2,x3,x4=symbols('x1,x2,x3,x4')"
   ]
  },
  {
   "cell_type": "code",
   "execution_count": 56,
   "metadata": {},
   "outputs": [
    {
     "data": {
      "text/latex": [
       "$$\\left ( \\left[\\begin{matrix}1 & 2 & 3 & 4\\\\0 & -1 & 1 & -1\\\\1 & 2 & 2 & 0\\\\2 & 0 & 3 & 0\\end{matrix}\\right], \\quad \\left ( 4, \\quad 4\\right )\\right )$$"
      ],
      "text/plain": [
       "⎛⎡1  2   3  4 ⎤, (4, 4)⎞\n",
       "⎜⎢            ⎥        ⎟\n",
       "⎜⎢0  -1  1  -1⎥        ⎟\n",
       "⎜⎢            ⎥        ⎟\n",
       "⎜⎢1  2   2  0 ⎥        ⎟\n",
       "⎜⎢            ⎥        ⎟\n",
       "⎝⎣2  0   3  0 ⎦        ⎠"
      ]
     },
     "execution_count": 56,
     "metadata": {},
     "output_type": "execute_result"
    }
   ],
   "source": [
    "A=Matrix([[1,2,3,4],[0,-1,1,-1],[1,2,2,0],[2,0,3,0]])\n",
    "A,A.shape"
   ]
  },
  {
   "cell_type": "code",
   "execution_count": 57,
   "metadata": {},
   "outputs": [
    {
     "data": {
      "text/latex": [
       "$$\\left ( \\left[\\begin{matrix}x_{1}\\\\x_{2}\\\\x_{3}\\\\x_{4}\\end{matrix}\\right], \\quad \\left ( 4, \\quad 1\\right )\\right )$$"
      ],
      "text/plain": [
       "⎛⎡x₁⎤, (4, 1)⎞\n",
       "⎜⎢  ⎥        ⎟\n",
       "⎜⎢x₂⎥        ⎟\n",
       "⎜⎢  ⎥        ⎟\n",
       "⎜⎢x₃⎥        ⎟\n",
       "⎜⎢  ⎥        ⎟\n",
       "⎝⎣x₄⎦        ⎠"
      ]
     },
     "execution_count": 57,
     "metadata": {},
     "output_type": "execute_result"
    }
   ],
   "source": [
    "X=Matrix([[x1],[x2],[x3],[x4]])\n",
    "X,X.shape"
   ]
  },
  {
   "cell_type": "code",
   "execution_count": 58,
   "metadata": {
    "scrolled": true
   },
   "outputs": [
    {
     "data": {
      "text/latex": [
       "$$\\left ( \\left[\\begin{matrix}25\\\\5\\\\20\\\\19\\end{matrix}\\right], \\quad \\left ( 4, \\quad 1\\right )\\right )$$"
      ],
      "text/plain": [
       "⎛⎡25⎤, (4, 1)⎞\n",
       "⎜⎢  ⎥        ⎟\n",
       "⎜⎢5 ⎥        ⎟\n",
       "⎜⎢  ⎥        ⎟\n",
       "⎜⎢20⎥        ⎟\n",
       "⎜⎢  ⎥        ⎟\n",
       "⎝⎣19⎦        ⎠"
      ]
     },
     "execution_count": 58,
     "metadata": {},
     "output_type": "execute_result"
    }
   ],
   "source": [
    "B=Matrix([[25],[5],[20],[19]])\n",
    "B,B.shape"
   ]
  },
  {
   "cell_type": "code",
   "execution_count": 63,
   "metadata": {},
   "outputs": [
    {
     "data": {
      "text/latex": [
       "$$\\left[\\begin{matrix}-2\\\\\\frac{10}{3}\\\\\\frac{23}{3}\\\\- \\frac{2}{3}\\end{matrix}\\right]$$"
      ],
      "text/plain": [
       "⎡ -2 ⎤\n",
       "⎢    ⎥\n",
       "⎢10/3⎥\n",
       "⎢    ⎥\n",
       "⎢23/3⎥\n",
       "⎢    ⎥\n",
       "⎣-2/3⎦"
      ]
     },
     "execution_count": 63,
     "metadata": {},
     "output_type": "execute_result"
    }
   ],
   "source": [
    "X=A.inv()*B\n",
    "X"
   ]
  },
  {
   "cell_type": "code",
   "execution_count": 72,
   "metadata": {},
   "outputs": [
    {
     "data": {
      "image/png": "iVBORw0KGgoAAAANSUhEUgAAAO0AAAAfCAYAAAALF0qdAAAABHNCSVQICAgIfAhkiAAABjVJREFU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\nAElFTkSuQmCC\n",
      "text/latex": [
       "$$\\left\\{\\left ( -2, \\quad \\frac{10}{3}, \\quad \\frac{23}{3}, \\quad - \\frac{2}{3}\\right )\\right\\}$$"
      ],
      "text/plain": [
       "{(-2, 10/3, 23/3, -2/3)}"
      ]
     },
     "execution_count": 72,
     "metadata": {},
     "output_type": "execute_result"
    }
   ],
   "source": [
    "eq1 = Eq(x1+2*x2+3*x3+4*x4, 25)\n",
    "eq2 = Eq(-x2+x3-x4, 5)\n",
    "eq3 = Eq(x1+2*x2+2*x3, 20)\n",
    "eq4 = Eq(2*x1+3*x3, 19)\n",
    "\n",
    "linsolve([eq1, eq2, eq3, eq4], (x1, x2, x3, x4))"
   ]
>>>>>>> lab5tobedone
  },
  {
   "cell_type": "markdown",
   "metadata": {},
   "source": [
    "### 2.4 Commuting matrices \n",
    "In linear algebra, two matrices $A$ and $B$ are said to commute if $A.B = B.A$ and equivalently their commutator $A.B - B.A = 0$.\n",
    "Find all the matrices that when commutes with matrix \n",
    "$A = \n",
    "\\begin{bmatrix}\n",
    "1 & 0 & 0 \\\\\n",
    "0 & 3 & 0 \\\\\n",
    "0 & 0 & 5\n",
    "\\end{bmatrix}\n",
    "$\n",
    "can be writen in the form of:\n",
    "$$\n",
    "B = \\begin{bmatrix}\n",
    "k_1  & 0 & 0 \\\\\n",
    "0 & k_2 & 0 \\\\\n",
    "0 & 0 & k_3\n",
    "\\end{bmatrix} , k_1, k_2, k_3 \\in \\rm I\\!R\n",
    "$$\n"
   ]
  },
  {
   "cell_type": "code",
<<<<<<< HEAD
   "execution_count": null,
   "metadata": {},
   "outputs": [],
   "source": []
  },
  {
   "cell_type": "code",
   "execution_count": null,
   "metadata": {},
   "outputs": [],
   "source": []
=======
   "execution_count": 73,
   "metadata": {},
   "outputs": [
    {
     "data": {
      "text/latex": [
       "$$\\left[\\begin{matrix}1 & 0 & 0\\\\0 & 3 & 0\\\\0 & 0 & 5\\end{matrix}\\right]$$"
      ],
      "text/plain": [
       "⎡1  0  0⎤\n",
       "⎢       ⎥\n",
       "⎢0  3  0⎥\n",
       "⎢       ⎥\n",
       "⎣0  0  5⎦"
      ]
     },
     "execution_count": 73,
     "metadata": {},
     "output_type": "execute_result"
    }
   ],
   "source": [
    "A=Matrix([[1,0,0],[0,3,0],[0,0,5]])\n",
    "A"
   ]
  },
  {
   "cell_type": "code",
   "execution_count": 74,
   "metadata": {},
   "outputs": [
    {
     "data": {
      "text/latex": [
       "$$\\left[\\begin{matrix}a_{11} & a_{12} & a_{13}\\\\a_{21} & a_{22} & a_{23}\\\\a_{31} & a_{32} & a_{33}\\end{matrix}\\right]$$"
      ],
      "text/plain": [
       "⎡a₁₁  a₁₂  a₁₃⎤\n",
       "⎢             ⎥\n",
       "⎢a₂₁  a₂₂  a₂₃⎥\n",
       "⎢             ⎥\n",
       "⎣a₃₁  a₃₂  a₃₃⎦"
      ]
     },
     "execution_count": 74,
     "metadata": {},
     "output_type": "execute_result"
    }
   ],
   "source": [
    "a11,a12,a13,a21,a22,a23,a31,a32,a33=symbols('a11,a12,a13,a21,a22,a23,a31,a32,a33')\n",
    "B=Matrix([[a11,a12,a13],[a21,a22,a23],[a31,a32,a33]])\n",
    "B\n"
   ]
  },
  {
   "cell_type": "code",
   "execution_count": 77,
   "metadata": {},
   "outputs": [
    {
     "data": {
      "text/latex": [
       "$$\\left[\\begin{matrix}0 & - 2 a_{12} & - 4 a_{13}\\\\2 a_{21} & 0 & - 2 a_{23}\\\\4 a_{31} & 2 a_{32} & 0\\end{matrix}\\right]$$"
      ],
      "text/plain": [
       "⎡  0    -2⋅a₁₂  -4⋅a₁₃⎤\n",
       "⎢                     ⎥\n",
       "⎢2⋅a₂₁    0     -2⋅a₂₃⎥\n",
       "⎢                     ⎥\n",
       "⎣4⋅a₃₁  2⋅a₃₂     0   ⎦"
      ]
     },
     "execution_count": 77,
     "metadata": {},
     "output_type": "execute_result"
    }
   ],
   "source": [
    "M=A*B-B*A\n",
    "M"
   ]
  },
  {
   "cell_type": "code",
   "execution_count": 79,
   "metadata": {},
   "outputs": [
    {
     "data": {
      "image/png": "iVBORw0KGgoAAAANSUhEUgAAAb8AAAAWCAYAAABQd5LgAAAABHNCSVQICAgIfAhkiAAABppJREFU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\n",
      "text/latex": [
       "$$\\left\\{\\left ( a_{11}, \\quad 0, \\quad 0, \\quad 0, \\quad a_{22}, \\quad 0, \\quad 0, \\quad 0, \\quad a_{33}\\right )\\right\\}$$"
      ],
      "text/plain": [
       "{(a₁₁, 0, 0, 0, a₂₂, 0, 0, 0, a₃₃)}"
      ]
     },
     "execution_count": 79,
     "metadata": {},
     "output_type": "execute_result"
    }
   ],
   "source": [
    "linsolve(flatten(M), (a11, a12, a13, a21, a22, a23, a31, a32, a33))"
   ]
>>>>>>> lab5tobedone
  },
  {
   "cell_type": "markdown",
   "metadata": {},
   "source": [
    "### 2.5 Invertible matrix\n",
    "For which values of $t$ the following matrix is not invertible: \n",
    "$$ A = \n",
    "\\begin{bmatrix}\n",
    "t+3 & -1 & 1\\\\\n",
    "5 & t-3 & 2\\\\\n",
    "6 & -6 & t+4 \\\\ \n",
    "\\end{bmatrix}\n",
    "$$"
   ]
  },
  {
   "cell_type": "code",
<<<<<<< HEAD
   "execution_count": null,
   "metadata": {},
   "outputs": [],
   "source": []
  },
  {
   "cell_type": "code",
   "execution_count": null,
   "metadata": {},
=======
   "execution_count": 81,
   "metadata": {},
   "outputs": [
    {
     "data": {
      "image/png": "iVBORw0KGgoAAAANSUhEUgAAAJ4AAAAWCAYAAAAxZiXOAAAABHNCSVQICAgIfAhkiAAAA7JJREFU\naIHt2U3IFVUcx/GPdikCA0mIZxNERC/QI2aLNhVlVEhEixZFFN4oLEp6WUWBcQsefCgoJdqV9IRt\nKnARBJKBlCRUvqCkFQnSwoKiFyvU1J4WZ3wc55m5d2buzJ1uzBeGuZyZc+b3m/+Zc/7nXFpaxoDH\nsRdHomMH7mhUUbU8iy8Ebz/hA1zdqKIWcBdW4jJcjimcwNImRVXIFjwodLZJbMaPuLBJUS3p/IJH\nmhZRE4twCnc2LeT/xsKUsqcxi/sG1D0H9wrB+axiXWW4X9A9i4cz7snr7TQXCO/o16HVFWOJ4GEz\nvsNR/I7teEh63Cjur27yxGSOTdGNV2Rcn8SfOInf/DdyvIsFLX/ob3KQtyTvYrfwkY2SRwWdh/EO\n1mGj4HEW72NBSr2i/uokb0zmOBDdnGYMzhVyvGuFF/Kzcgl4NxJ0U4m6cRZgKw7iZf1NDvIW5xUh\n8JeW1NVV3t8KYXpPjmwT+D5q9+6UekX81UmRmJh2ZlhMHg/0echWvFlCXFc1He9J/IMb0ZNusqi3\nV/EDrhxCV1c1/pI8F7X7WqysbOzqYmBMOrHfuzCDVULO9lHs2rY+D1mI84aWWo6rhJe+AZ8II0Ua\nRbxtwD24GV9XqLUqTkTnk7GysrGrg7wxOYvVQu9cnXF9GjfgEiHXWyf07JUlBHYNNyJ08CW+wflR\nWU/2sD7IG7wu7OGtEKa108eiEvq6qh/xOtgXtXt74loef3WTOyYdZ7M8Ou/KaHhCSGAnhFXWXqHT\nbRlWcQmexzW4Xlj1DWKQN3gsOn+cKH9BeIFNMy3k0x+a/87z+KubojGZ43P8rfqp85DsHCTteGtA\ne9cJU81LifKe7BGvLm9U7y+NJ6K6B6RvaBf1V1TzpgHtFYpJJ/F7EvtxPKf4vKzH4kTZMuGfkBnh\nJcTZ06etDt7Gt1ib8/l1eqNaf2msEXKm/bhF2LSPU8bfQRwroOFwn2tlYjLHUqFnbixasSRd5XKg\nxfJ/peujOqP2RnU53lNRO/twUcY9TfiLUzgm8RFvWXTePSKxZTkue/tmuZBjbBcS3B1R+bh4S/KM\nkNftwa3CnmkaTfsrHJN4x1sSnY/Upa4ijsrejOwJJmfwRqx8XLzFWYsXsRO3mT+9xmnaX+GYxDve\nzug8Jayc/sJXeK9qlQ0wbt5WCZ3uFD4VFhZJDjmzSBk3f/NYIwyHx4T5eKrGZ3VVv8/Vk72qHaU3\nhvPXMzhX2paoM2p/eenJ+V9tS0tLS0tLS0vLePMvrCphKTuHWCQAAAAASUVORK5CYII=\n",
      "text/latex": [
       "$$t^{3} + 4 t^{2} + 2 t - 4$$"
      ],
      "text/plain": [
       " 3      2          \n",
       "t  + 4⋅t  + 2⋅t - 4"
      ]
     },
     "execution_count": 81,
     "metadata": {},
     "output_type": "execute_result"
    }
   ],
   "source": [
    "t=symbols('t')\n",
    "A=Matrix([[t+3,-1,1],[5,t-3,2],[6,-6,t+4]])\n",
    "A.det()"
   ]
  },
  {
   "cell_type": "code",
   "execution_count": 82,
   "metadata": {},
   "outputs": [
    {
     "data": {
      "image/png": "iVBORw0KGgoAAAANSUhEUgAAAR0AAAAeCAYAAAARicphAAAABHNCSVQICAgIfAhkiAAABHRJREFU\neJztnV+IFVUcxz8tWwQKaca2CIYEa1A+iBtEsOhd6yV1Uao3KQdUUIxIEiIoWgRx7SVzI+plXaNA\nRejBTVaoVtglgtQVlZI26ZIlq23+RYxyXR9+c9nl7p07f3ZmzpyZ3wcuc5k558x3fufc3z3nd865\nFxRFUQyzBjgHHAQOAM+alaMoiqVsRXxIP+JTHvJK6AATwMOpyFJsYyLmV5GZRTFs6TDFpzQYlaLY\nRiuwBXggxldRaQVeo4C2VKejhGEV8I1pETmhsLZUp6OE4QngomkROaGwtlSnowTlcWDUtIicUGhb\nqtNRgvIScNS0iJxQaFuq01GC8hzwo2kROaHQtlSnowThQWAcuGdaSA4ovC3TdDrzgI3A18BvwB3g\nBjAEbEhZSxZ4FegGBoGbyDqGL40q8qYNqScvdgPfIYHRO8BVYBj4AKl3ZRLbbZlIu3VIZnHgZrfc\nS8BXwC6gB7junj+MRWsNYuA08ty3gF/IttPpAubWuf4fMlzocdN2Az8hz/QXsCBpgRZhuy2jtFsH\nH5/imyAiK4AOpvdomoE/3Hu+EvM9s0w70II42hLxOR3HLasUIW8D0Fjj/Oc++bzayk5Xy6cRtNhO\nXm0Zpd06GFqR/D1whOlj2VHgM/d9KUU9phkARsjO8vW5yIzKuqrzTwIXfPL+63H+kHtsmYEuG8mz\nLWfcbrMSR/nfPd41qqLYPANcBlZXnV9N9JWzHe7xTFRRlqK2rEOt7l/aNAKvu+/7TQopOEPIB+UE\nMsNS+SJ4GtgbsIztwGzgEeTXCdqQD0lXrEqzj9qyDllwOl3AYqQ7esywlqIzggx3lyEzKLOA2yHy\nb0dW21boR8bzf8ekzybUlh6EGV6VCbfNPkhQ9E3gbeA8suM2q5SJ/9mT0rXPvTZQ41pvgDL7mBwW\nvAh8G0JPMxJgbAZeRmIYw8DSEGWYokz8dWzalmUy2G7D9HQu4B3kqsUln+tvAB8DPwMvIOsRskrc\nzx4Xe4A5VeeWID/Eth9pdFM5HaDMPmSGZRsS2H83gq7LyHqsU8CvwBdIbzbLJFHHpm2Z1XY7DYfk\nf8TrLfceZ4GmBO9jCyWyMWUO8kV0HXiKeKZnh109j8VQlm3k3ZYlMj5lXuEd4CPkW7cduGJAg+LN\nXSS29h7BekZ+zHeP4zGUZRtqyxqk7XTeRwLHJ5Eh1ViAPL2Il3QSU6VU04esMQmyE3oRMsNSTQOy\noK0J+AG45pG/l3zXb5q2tII0Z6/WAzsQLz2IBJGrKTM92FlxjHlbw7PWfYEECwGeZ/L5x5AZDBMc\nRbryfwZIuxLZ0jIE/A78g8y6LEeCn6PApjr581q/FdK0ZRok0m4dkonpdOIfPT9eI98wsrGs3n4V\nG+mkvi3KEct1mFlMp8LCgOkWA58gw4cxxHncQPYLdQKP+uTPa/1OZWHAdDO1ZRp0Er7dOhjaexWF\nOUjP6EPTQpRE0PotBg4+PiVL/3vVgUz5NfslVKxE6zffBP7fK0VRFEVRFEVRFEVRFCXb3AeMx6t8\nh5+dtQAAAABJRU5ErkJggg==\n",
      "text/latex": [
       "$$\\left [ -2, \\quad -1 + \\sqrt{3}, \\quad - \\sqrt{3} - 1\\right ]$$"
      ],
      "text/plain": [
       "[-2, -1 + √3, -√3 - 1]"
      ]
     },
     "execution_count": 82,
     "metadata": {},
     "output_type": "execute_result"
    }
   ],
   "source": [
    "solve(A.det(),t)"
   ]
  },
  {
   "cell_type": "code",
   "execution_count": null,
   "metadata": {
    "collapsed": true
   },
>>>>>>> lab5tobedone
   "outputs": [],
   "source": []
  },
  {
   "cell_type": "markdown",
   "metadata": {},
   "source": [
    "### 2.6 Pseudo inverse of matrix\n",
    "\n",
    "The pseudo-inverse of a $m\\times n$ matrix $A$ is a generalization of a inverse matrix.\n",
    "For an overdetermined set of linear equations represented by its matrix $A$ (with $m \\ge n$),\n",
    "if A is full column rank, meaning $rank(A) = n \\le m$. Therefore, $A^{T}.A$ is not singular and the pseudo-inverse $A^{\\dagger}$ is a left inverse of $A$, in the sense that $A^{\\dagger}.A = In$\n",
    "In this case we have the closed-form expresson $A^{\\dagger} = (A^{T}. A)^{-1}.A^{T}$.\n",
    "The solution to the least-squares problem $min_{x} \\Vert Ax-y\\Vert$, where the minimum norm is $x^{\\ast} = A^{\\dagger}.y$\n",
    "\n",
    "Now consider the following linear systems, find the solution using least-square method:\n",
    "\n",
    "$$\n",
    "  \\begin{cases}\n",
    "    x+z & = 1.5\\\\\n",
    "    x-y & =2.1\\\\\n",
    "    x-z & = 0.8\\\\\n",
    "    x+y & = 0.6\n",
    "  \\end{cases}\n",
    "$$"
   ]
  },
  {
   "cell_type": "code",
<<<<<<< HEAD
   "execution_count": null,
   "metadata": {},
   "outputs": [],
   "source": []
  },
  {
   "cell_type": "code",
   "execution_count": null,
   "metadata": {},
   "outputs": [],
   "source": []
=======
   "execution_count": 83,
   "metadata": {},
   "outputs": [
    {
     "data": {
      "text/latex": [
       "$$\\left ( \\left[\\begin{matrix}1 & 0 & 1\\\\1 & -1 & 0\\\\1 & 0 & -1\\\\1 & 1 & 0\\end{matrix}\\right], \\quad \\left[\\begin{matrix}1.5\\\\2.1\\\\0.8\\\\0.6\\end{matrix}\\right], \\quad \\left[\\begin{matrix}x & y & z\\end{matrix}\\right]\\right )$$"
      ],
      "text/plain": [
       "⎛⎡1  0   1 ⎤, ⎡1.5⎤, [x  y  z]⎞\n",
       "⎜⎢         ⎥  ⎢   ⎥           ⎟\n",
       "⎜⎢1  -1  0 ⎥  ⎢2.1⎥           ⎟\n",
       "⎜⎢         ⎥  ⎢   ⎥           ⎟\n",
       "⎜⎢1  0   -1⎥  ⎢0.8⎥           ⎟\n",
       "⎜⎢         ⎥  ⎢   ⎥           ⎟\n",
       "⎝⎣1  1   0 ⎦  ⎣0.6⎦           ⎠"
      ]
     },
     "execution_count": 83,
     "metadata": {},
     "output_type": "execute_result"
    }
   ],
   "source": [
    "A=Matrix([[1,0,1],[1,-1,0],[1,0,-1],[1,1,0]])\n",
    "x,y,z=symbols('x,y,z')\n",
    "b=Matrix([1.5,2.1,0.8,0.6])\n",
    "X=Matrix([x,y,z])\n",
    "X=X.transpose()\n",
    "A,b,X"
   ]
  },
  {
   "cell_type": "code",
   "execution_count": 84,
   "metadata": {},
   "outputs": [
    {
     "data": {
      "text/latex": [
       "$$\\left[\\begin{matrix}1.25\\\\-0.75\\\\0.35\\end{matrix}\\right]$$"
      ],
      "text/plain": [
       "⎡1.25 ⎤\n",
       "⎢     ⎥\n",
       "⎢-0.75⎥\n",
       "⎢     ⎥\n",
       "⎣0.35 ⎦"
      ]
     },
     "execution_count": 84,
     "metadata": {},
     "output_type": "execute_result"
    }
   ],
   "source": [
    "(A.transpose()*A).inv()*A.transpose()*b"
   ]
>>>>>>> lab5tobedone
  },
  {
   "cell_type": "code",
   "execution_count": null,
<<<<<<< HEAD
   "metadata": {},
=======
   "metadata": {
    "collapsed": true
   },
>>>>>>> lab5tobedone
   "outputs": [],
   "source": []
  }
 ],
 "metadata": {
  "kernelspec": {
<<<<<<< HEAD
   "display_name": "Python 3",
   "language": "python",
   "name": "python3"
=======
   "display_name": "Python 2",
   "language": "python",
   "name": "python2"
>>>>>>> lab5tobedone
  },
  "language_info": {
   "codemirror_mode": {
    "name": "ipython",
<<<<<<< HEAD
    "version": 3
=======
    "version": 2
>>>>>>> lab5tobedone
   },
   "file_extension": ".py",
   "mimetype": "text/x-python",
   "name": "python",
   "nbconvert_exporter": "python",
<<<<<<< HEAD
   "pygments_lexer": "ipython3",
   "version": "3.6.2"
=======
   "pygments_lexer": "ipython2",
   "version": "2.7.13"
>>>>>>> lab5tobedone
  }
 },
 "nbformat": 4,
 "nbformat_minor": 2
}
